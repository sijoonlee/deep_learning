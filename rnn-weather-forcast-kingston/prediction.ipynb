{
 "cells": [
  {
   "cell_type": "code",
   "execution_count": 14,
   "metadata": {},
   "outputs": [
    {
     "name": "stdout",
     "output_type": "stream",
     "text": [
      "                  Temp (°C)  Dew Point Temp (°C)  Rel Hum (%)  \\\n",
      "Date/Time                                                       \n",
      "2019-07-31 21:00       21.9                 18.1         79.0   \n",
      "2019-07-31 22:00       22.1                 14.3         61.0   \n",
      "2019-07-31 23:00       21.3                 12.8         58.0   \n",
      "\n",
      "                  Wind Dir (10s deg)  Wind Spd (km/h)  Stn Press (kPa)  \n",
      "Date/Time                                                               \n",
      "2019-07-31 21:00                33.0             11.0           100.67  \n",
      "2019-07-31 22:00                 2.0             11.0           100.69  \n",
      "2019-07-31 23:00                 1.0             10.0           100.72  \n",
      "torch.Size([1, 480, 6])\n"
     ]
    }
   ],
   "source": [
    "import pandas as pd\n",
    "import numpy as np\n",
    "\n",
    "dataset = pd.read_csv('export_data.csv', header = 0)\n",
    "dataset.set_index(dataset.columns[0], inplace=True)\n",
    "print(dataset[-3:])\n",
    "input_data = np.array(dataset[-480:])\n",
    "mean = np.mean(input_data, axis=0)\n",
    "std = np.std(input_data, axis=0) \n",
    "input_data = (input_data - mean)/std  \n",
    "input_data = torch.Tensor(input_data).unsqueeze(0)\n",
    "print(input_data.shape)"
   ]
  },
  {
   "cell_type": "code",
   "execution_count": 4,
   "metadata": {},
   "outputs": [],
   "source": [
    "import torch\n",
    "import torch.nn as nn\n",
    "\n",
    "class SimpleLSTM(nn.Module):\n",
    "    def __init__(self, hidden_size=100, num_layers=1):\n",
    "        super().__init__()\n",
    "        self.input_size = 6\n",
    "        self.output_size = 1\n",
    "        self.hidden_size = hidden_size\n",
    "        self.num_layers = num_layers\n",
    "        self.lstm = nn.LSTM(self.input_size, self.hidden_size, self.num_layers, batch_first=True) # 위의 설명 1. 을 참고하여 None을 채우세요.\n",
    "        self.fc = nn.Linear(self.hidden_size, self.output_size) # 위의 설명 2. 를 참고하여 None을 채우세요.\n",
    "\n",
    "    \n",
    "    def init_hidden(self, batch_size):\n",
    "        hidden = torch.zeros(self.num_layers, batch_size, self.hidden_size) # 위의 설명 3. 을 참고하여 None을 채우세요.\n",
    "        cell = torch.zeros(self.num_layers, batch_size, self.hidden_size) # 위의 설명 3. 을 참고하여 None을 채우세요.\n",
    "        return hidden, cell\n",
    "    \n",
    "    def forward(self, x):\n",
    "        # hidden, cell state init\n",
    "        h, c = self.init_hidden(x.size(0))\n",
    "        h, c = h.to(x.device), c.to(x.device)\n",
    "        out, (h, c) = self.lstm(x, (h, c))     \n",
    "        final_output = self.fc(out[:, -1:, :])     \n",
    "        final_output = torch.squeeze(final_output, dim = 1) # shape (100,1)\n",
    "\n",
    "        return final_output"
   ]
  },
  {
   "cell_type": "code",
   "execution_count": 15,
   "metadata": {},
   "outputs": [
    {
     "name": "stdout",
     "output_type": "stream",
     "text": [
      "22.31875416888655\n"
     ]
    }
   ],
   "source": [
    "model = SimpleLSTM()    \n",
    "pred = model(input_data)\n",
    "pred = pred.item() * std[0] + mean[0] # de-normalization\n",
    "print(pred) # this is prediction of 1st Aug, 23:00, Kingston, Ontario\n",
    "\n",
    "# The actual temp\n",
    "# http://climate.weather.gc.ca/climate_data/hourly_data_e.html?hlyRange=2008-07-15%7C2019-08-07&dlyRange=2008-07-15%7C2019-08-07&mlyRange=%7C&StationID=47267&Prov=ON&urlExtension=_e.html&searchType=stnProv&optLimit=specDate&StartYear=1840&EndYear=2019&selRowPerPage=25&Line=74&Month=8&Day=1&lstProvince=ON&timeframe=1&Year=2019\n"
   ]
  }
 ],
 "metadata": {
  "kernelspec": {
   "display_name": "Python 3",
   "language": "python",
   "name": "python3"
  },
  "language_info": {
   "codemirror_mode": {
    "name": "ipython",
    "version": 3
   },
   "file_extension": ".py",
   "mimetype": "text/x-python",
   "name": "python",
   "nbconvert_exporter": "python",
   "pygments_lexer": "ipython3",
   "version": "3.7.3"
  }
 },
 "nbformat": 4,
 "nbformat_minor": 2
}
