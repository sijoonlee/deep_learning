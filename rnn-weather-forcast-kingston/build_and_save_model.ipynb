{
 "cells": [
  {
   "cell_type": "code",
   "execution_count": 1,
   "metadata": {},
   "outputs": [
    {
     "name": "stdout",
     "output_type": "stream",
     "text": [
      "                  Temp (°C)  Dew Point Temp (°C)  Rel Hum (%)  \\\n",
      "Date/Time                                                       \n",
      "2015-01-01 00:00       -5.9                -11.8         63.0   \n",
      "2015-01-01 01:00       -5.9                -13.6         54.0   \n",
      "2015-01-01 02:00       -6.1                -14.2         53.0   \n",
      "2015-01-01 03:00       -5.8                -13.2         56.0   \n",
      "2015-01-01 04:00       -5.7                -11.9         62.0   \n",
      "\n",
      "                  Wind Dir (10s deg)  Wind Spd (km/h)  Stn Press (kPa)  \n",
      "Date/Time                                                               \n",
      "2015-01-01 00:00                26.0             28.0           100.21  \n",
      "2015-01-01 01:00                26.0             21.0           100.19  \n",
      "2015-01-01 02:00                26.0             27.0           100.17  \n",
      "2015-01-01 03:00                25.0             28.0           100.14  \n",
      "2015-01-01 04:00                25.0             24.0           100.14  \n",
      "(40152, 6)\n",
      "[[ -5.9  -11.8   63.    26.    28.   100.21]\n",
      " [ -5.9  -13.6   54.    26.    21.   100.19]\n",
      " [ -6.1  -14.2   53.    26.    27.   100.17]\n",
      " [ -5.8  -13.2   56.    25.    28.   100.14]\n",
      " [ -5.7  -11.9   62.    25.    24.   100.14]]\n"
     ]
    }
   ],
   "source": [
    "# Load Data\n",
    "import pandas as pd\n",
    "import numpy as np\n",
    "\n",
    "dataset = pd.read_csv('export_data.csv', header = 0)\n",
    "dataset.set_index(dataset.columns[0], inplace=True)\n",
    "print(dataset[:5])\n",
    "\n",
    "# Convert to numpy array\n",
    "np_dataset = np.array(dataset)\n",
    "print(np_dataset.shape) # 40152, 6\n",
    "print(np_dataset[:5])\n",
    "\n",
    "# divide the dataset into three categories: train, validation, test\n",
    "\n",
    "train_data = np_dataset[:25000]\n",
    "validation_data = np_dataset[25001:30000]\n",
    "test_data = np_dataset[30001:40152]\n"
   ]
  },
  {
   "cell_type": "code",
   "execution_count": 2,
   "metadata": {},
   "outputs": [],
   "source": [
    "import torch\n",
    "import torch.nn as nn\n",
    "import matplotlib.pyplot as plt\n",
    "from torch.utils.data import Dataset, DataLoader\n",
    "%matplotlib inline\n",
    "\n",
    "\n",
    "batch_size = 100\n",
    "num_epochs = 20\n",
    "learning_rate = 0.00003"
   ]
  },
  {
   "cell_type": "code",
   "execution_count": 3,
   "metadata": {},
   "outputs": [],
   "source": [
    "class Dataset(Dataset):\n",
    "    def __init__(self, data, mode, mean=None, std=None, seq_len=480, target_delay=24, stride=5, normalize=True):\n",
    "        self.mode = mode\n",
    "        self.seq_len = seq_len\n",
    "        self.target_delay = target_delay\n",
    "        self.stride = stride\n",
    "        self.data = data\n",
    "        if mode == 'train':\n",
    "            assert (mean is None) and (std is None), \\\n",
    "                \"Argument should be None on train mode\"\n",
    "            self.mean = np.mean(data, axis=0)\n",
    "            self.std = np.std(data, axis=0) \n",
    "        else:\n",
    "            assert (mean is not None) and (std is not None), \\\n",
    "                \"You can use mean/std from train_data\"\n",
    "            self.mean = mean\n",
    "            self.std = std\n",
    "        \n",
    "        if normalize:\n",
    "            self.data = (self.data - self.mean) / self.std\n",
    "    \n",
    "    def __getitem__(self, index):\n",
    "        index = index * self.stride\n",
    "        sequence = self.data[index:index + self.seq_len, :]\n",
    "        # print(sequence.shape) (480,9)\n",
    "        target = self.data[index+self.seq_len+self.target_delay-1, 0]\n",
    "        target = np.expand_dims(target, axis=0)\n",
    "        # print(target.shape) (1,)\n",
    "        return sequence, target\n",
    "    \n",
    "    def __len__(self):\n",
    "        max_idx = len(self.data) - self.seq_len - self.target_delay\n",
    "        num_of_idx = max_idx // self.stride\n",
    "        return num_of_idx"
   ]
  },
  {
   "cell_type": "code",
   "execution_count": 4,
   "metadata": {},
   "outputs": [],
   "source": [
    "train_data = Dataset(train_data, 'train', mean=None, std=None)\n",
    "val_data = Dataset(validation_data, 'val', mean=train_data.mean, std=train_data.std)\n",
    "test_data = Dataset(test_data, 'test', mean=train_data.mean, std=train_data.std)\n",
    "\n",
    "train_loader = DataLoader(train_data, batch_size=batch_size, shuffle=True, drop_last=True)\n",
    "val_loader = DataLoader(val_data, batch_size=batch_size, shuffle=False, drop_last=True)\n",
    "test_loader = DataLoader(test_data, batch_size=batch_size, shuffle=False, drop_last=True)"
   ]
  },
  {
   "cell_type": "code",
   "execution_count": 5,
   "metadata": {},
   "outputs": [
    {
     "data": {
      "image/png": "[encoded data removed]",
      "text/plain": [
       "<Figure size 432x288 with 1 Axes>"
      ]
     },
     "metadata": {
      "needs_background": "light"
     },
     "output_type": "display_data"
    }
   ],
   "source": [
    "temp = train_data[0][0]\n",
    "temp = temp[:, 0]\n",
    "plt.plot(range(len(temp)), temp)\n",
    "plt.xlabel('time')\n",
    "plt.ylabel('temperature\\n(normalized)')\n",
    "plt.show()"
   ]
  },
  {
   "cell_type": "code",
   "execution_count": 6,
   "metadata": {},
   "outputs": [],
   "source": [
    "def eval_baseline(data_loader, criterion):\n",
    "    total_loss = 0\n",
    "    cnt = 0\n",
    "    for step, (sequence, target) in enumerate(data_loader):\n",
    "        ## 코드 시작 ##\n",
    "        # print(\"seq\", sequence.shape) torch.Size([100, 480, 9]) # batch_size = 100\n",
    "        pred = sequence[:, -1:, :1]        # 위의 설명 1. 을 참고하여 None을 채우세요.\n",
    "        # print(\"pred\", pred.shape) # torch.Size([100, 1, 1])\n",
    "        pred = torch.squeeze(pred, 1)\n",
    "        # print(\"pred\", pred.shape) # torch.Size([100, 1])\n",
    "        # print(\"tar\", target.shape) torch.Size([100, 1])\n",
    "        loss = criterion(pred, target)       # 위의 설명 2. 를 참고하여 None을 채우세요.\n",
    "        ## 코드 종료 ##\n",
    "    \n",
    "        total_loss += loss\n",
    "        cnt += 1\n",
    "    avrg_loss = total_loss / cnt\n",
    "    print('Baseline Average Loss: {:.4f}'.format(avrg_loss))\n",
    "    return avrg_loss.item()"
   ]
  },
  {
   "cell_type": "code",
   "execution_count": 7,
   "metadata": {},
   "outputs": [
    {
     "name": "stdout",
     "output_type": "stream",
     "text": [
      "Baseline Average Loss: 0.1864\n"
     ]
    }
   ],
   "source": [
    "baseline_loss = eval_baseline(test_loader, nn.MSELoss())"
   ]
  },
  {
   "cell_type": "code",
   "execution_count": 9,
   "metadata": {},
   "outputs": [
    {
     "name": "stdout",
     "output_type": "stream",
     "text": [
      "Predicted Temp: 15.9 / Actual Temp: 19.0\n",
      "Predicted Temp: 22.8 / Actual Temp: 24.1\n",
      "Predicted Temp: -9.6 / Actual Temp: 2.9\n",
      "Predicted Temp: -6.8 / Actual Temp: -6.0\n",
      "Predicted Temp: -3.4 / Actual Temp: -7.3\n",
      "Predicted Temp: 5.8 / Actual Temp: 4.2\n",
      "Predicted Temp: 22.2 / Actual Temp: 23.2\n",
      "Predicted Temp: -7.8 / Actual Temp: 0.9\n",
      "Predicted Temp: -13.3 / Actual Temp: -11.7\n",
      "Predicted Temp: 10.2 / Actual Temp: 11.3\n",
      "Predicted Temp: 8.9 / Actual Temp: 12.2\n",
      "Predicted Temp: 8.1 / Actual Temp: 6.4\n",
      "Predicted Temp: 11.7 / Actual Temp: 8.3\n",
      "Predicted Temp: 23.0 / Actual Temp: 24.4\n",
      "Predicted Temp: 21.9 / Actual Temp: 23.3\n"
     ]
    }
   ],
   "source": [
    "for i in range(15):\n",
    "    data_idx = np.random.randint(len(test_data))\n",
    "    pred = test_data[data_idx][0][-1, 0]\n",
    "    pred = pred * test_data.std[0] + test_data.mean[0]  # un-normalization\n",
    "    target = test_data[data_idx][1][0] * test_data.std[0] + test_data.mean[0] # un-normalization\n",
    "    print('Predicted Temp: {:.1f} / Actual Temp: {:.1f}'.format(pred, target))"
   ]
  },
  {
   "cell_type": "code",
   "execution_count": 20,
   "metadata": {},
   "outputs": [],
   "source": [
    "class SimpleLSTM(nn.Module):\n",
    "    def __init__(self, hidden_size=100, num_layers=1):\n",
    "        super().__init__()\n",
    "        self.input_size = 6\n",
    "        self.output_size = 1\n",
    "        self.hidden_size = hidden_size\n",
    "        self.num_layers = num_layers\n",
    "        self.lstm = nn.LSTM(self.input_size, self.hidden_size, self.num_layers, batch_first=True) # 위의 설명 1. 을 참고하여 None을 채우세요.\n",
    "        self.fc = nn.Linear(self.hidden_size, self.output_size) # 위의 설명 2. 를 참고하여 None을 채우세요.\n",
    "\n",
    "    \n",
    "    def init_hidden(self, batch_size):\n",
    "        hidden = torch.zeros(self.num_layers, batch_size, self.hidden_size) # 위의 설명 3. 을 참고하여 None을 채우세요.\n",
    "        cell = torch.zeros(self.num_layers, batch_size, self.hidden_size) # 위의 설명 3. 을 참고하여 None을 채우세요.\n",
    "        return hidden, cell\n",
    "    \n",
    "    def forward(self, x):\n",
    "        # hidden, cell state init\n",
    "        h, c = self.init_hidden(x.size(0))\n",
    "        h, c = h.to(x.device), c.to(x.device)\n",
    "        out, (h, c) = self.lstm(x, (h, c))     \n",
    "        final_output = self.fc(out[:, -1:, :])     \n",
    "        final_output = torch.squeeze(final_output, dim = 1) # shape (100,1)\n",
    "\n",
    "        return final_output"
   ]
  },
  {
   "cell_type": "code",
   "execution_count": 21,
   "metadata": {},
   "outputs": [],
   "source": [
    "def train(num_epochs, model, data_loader, criterion, optimizer, saved_dir, val_every, device):\n",
    "    print('Start training..')\n",
    "    best_loss = 9999999\n",
    "    for epoch in range(num_epochs):\n",
    "        for step, (sequence, target) in enumerate(data_loader):\n",
    "            sequence = sequence.type(torch.float32)\n",
    "            target = target.type(torch.float32)\n",
    "            sequence, target = sequence.to(device), target.to(device)\n",
    "\n",
    "            outputs = model(sequence)  \n",
    "            loss = criterion(outputs, target)     \n",
    "            optimizer.zero_grad() \n",
    "            loss.backward()       \n",
    "            optimizer.step()       \n",
    "            \n",
    "            if (step + 1) % 25 == 0:\n",
    "                print('Epoch [{}/{}], Step [{}/{}], Loss: {:.4f}'.format(\n",
    "                    epoch+1, num_epochs, step+1, len(train_loader), loss.item()))\n",
    "                \n",
    "        if (epoch + 1) % val_every == 0:\n",
    "            avrg_loss = validation(epoch + 1, model, val_loader, criterion, device)\n",
    "            if avrg_loss < best_loss:\n",
    "                print('Best performance at epoch: {}'.format(epoch + 1))\n",
    "                print('Save model in', saved_dir)\n",
    "                best_loss = avrg_loss\n",
    "                save_model(model, saved_dir)"
   ]
  },
  {
   "cell_type": "code",
   "execution_count": 22,
   "metadata": {},
   "outputs": [],
   "source": [
    "def validation(epoch, model, data_loader, criterion, device):\n",
    "    print('Start validation #{}'.format(epoch))\n",
    "    model.eval()\n",
    "    with torch.no_grad():\n",
    "        total_loss = 0\n",
    "        cnt = 0\n",
    "        for step, (sequence, target) in enumerate(data_loader):\n",
    "            sequence = sequence.type(torch.float32)\n",
    "            target = target.type(torch.float32)\n",
    "            sequence, target = sequence.to(device), target.to(device)\n",
    "\n",
    "            outputs = model(sequence)  \n",
    "            loss = criterion(outputs, target)\n",
    "\n",
    "            total_loss += loss\n",
    "            cnt += 1\n",
    "        avrg_loss = total_loss / cnt\n",
    "        print('Validation #{}  Average Loss: {:.4f}'.format(epoch, avrg_loss))\n",
    "    model.train()\n",
    "    return avrg_loss"
   ]
  },
  {
   "cell_type": "code",
   "execution_count": 30,
   "metadata": {},
   "outputs": [],
   "source": [
    "def test(model, data_loader, criterion, baseline_loss, device):\n",
    "    print('Start test..')\n",
    "    model.eval()\n",
    "    with torch.no_grad():\n",
    "        total_loss = 0\n",
    "        cnt = 0\n",
    "        for step, (sequence, target) in enumerate(data_loader):\n",
    "            sequence = sequence.type(torch.float32)\n",
    "            target = target.type(torch.float32)\n",
    "            sequence, target = sequence.to(device), target.to(device)\n",
    "            # print(sequence.shape) 100,480,9\n",
    "            outputs = model(sequence) \n",
    "            loss = criterion(outputs, target)   \n",
    "            total_loss += loss\n",
    "            cnt += 1\n",
    "        avrg_loss = total_loss / cnt\n",
    "        print('Test  Average Loss: {:.4f}  Baseline Loss: {:.4f}'.format(avrg_loss, baseline_loss))\n",
    "        \n",
    "    if avrg_loss < baseline_loss:\n",
    "        print('Above baseline performance!')\n",
    "    else:\n",
    "        print('Below baseline performance')"
   ]
  },
  {
   "cell_type": "code",
   "execution_count": 27,
   "metadata": {},
   "outputs": [],
   "source": [
    "def save_model(model, saved_dir, file_name='best_model.pt'):\n",
    "    import os\n",
    "    os.makedirs(saved_dir, exist_ok=True)\n",
    "    check_point = {\n",
    "        'net': model.state_dict()\n",
    "    }\n",
    "    output_path = os.path.join(saved_dir, file_name)\n",
    "    torch.save(check_point, output_path)"
   ]
  },
  {
   "cell_type": "code",
   "execution_count": 16,
   "metadata": {},
   "outputs": [],
   "source": [
    "device = \"cuda\" if torch.cuda.is_available() else \"cpu\" "
   ]
  },
  {
   "cell_type": "code",
   "execution_count": 25,
   "metadata": {},
   "outputs": [],
   "source": [
    "torch.manual_seed(7777) \n",
    "model = SimpleLSTM()          \n",
    "model = model.to(device)\n",
    "criterion = nn.MSELoss()    \n",
    "optimizer = torch.optim.Adam(model.parameters(), lr = learning_rate)     \n",
    "val_every = 1\n",
    "saved_dir = './saved/LSTM'"
   ]
  },
  {
   "cell_type": "code",
   "execution_count": 18,
   "metadata": {},
   "outputs": [],
   "source": [
    "batch_size = 100\n",
    "num_epochs = 20\n",
    "learning_rate = 0.00003"
   ]
  },
  {
   "cell_type": "code",
   "execution_count": 28,
   "metadata": {},
   "outputs": [
    {
     "name": "stdout",
     "output_type": "stream",
     "text": [
      "Start training..\n",
      "Epoch [1/20], Step [25/48], Loss: 0.9349\n",
      "Start validation #1\n",
      "Validation #1  Average Loss: 1.4686\n",
      "Best performance at epoch: 1\n",
      "Save model in ./saved/LSTM\n",
      "Epoch [2/20], Step [25/48], Loss: 0.8762\n",
      "Start validation #2\n",
      "Validation #2  Average Loss: 1.3847\n",
      "Best performance at epoch: 2\n",
      "Save model in ./saved/LSTM\n",
      "Epoch [3/20], Step [25/48], Loss: 0.9227\n",
      "Start validation #3\n",
      "Validation #3  Average Loss: 1.2853\n",
      "Best performance at epoch: 3\n",
      "Save model in ./saved/LSTM\n",
      "Epoch [4/20], Step [25/48], Loss: 0.6388\n",
      "Start validation #4\n",
      "Validation #4  Average Loss: 1.1513\n",
      "Best performance at epoch: 4\n",
      "Save model in ./saved/LSTM\n",
      "Epoch [5/20], Step [25/48], Loss: 0.5428\n",
      "Start validation #5\n",
      "Validation #5  Average Loss: 0.9628\n",
      "Best performance at epoch: 5\n",
      "Save model in ./saved/LSTM\n",
      "Epoch [6/20], Step [25/48], Loss: 0.4483\n",
      "Start validation #6\n",
      "Validation #6  Average Loss: 0.6519\n",
      "Best performance at epoch: 6\n",
      "Save model in ./saved/LSTM\n",
      "Epoch [7/20], Step [25/48], Loss: 0.3356\n",
      "Start validation #7\n",
      "Validation #7  Average Loss: 0.3095\n",
      "Best performance at epoch: 7\n",
      "Save model in ./saved/LSTM\n",
      "Epoch [8/20], Step [25/48], Loss: 0.1655\n",
      "Start validation #8\n",
      "Validation #8  Average Loss: 0.2895\n",
      "Best performance at epoch: 8\n",
      "Save model in ./saved/LSTM\n",
      "Epoch [9/20], Step [25/48], Loss: 0.1396\n",
      "Start validation #9\n",
      "Validation #9  Average Loss: 0.2838\n",
      "Best performance at epoch: 9\n",
      "Save model in ./saved/LSTM\n",
      "Epoch [10/20], Step [25/48], Loss: 0.1548\n",
      "Start validation #10\n",
      "Validation #10  Average Loss: 0.2751\n",
      "Best performance at epoch: 10\n",
      "Save model in ./saved/LSTM\n",
      "Epoch [11/20], Step [25/48], Loss: 0.1846\n",
      "Start validation #11\n",
      "Validation #11  Average Loss: 0.2680\n",
      "Best performance at epoch: 11\n",
      "Save model in ./saved/LSTM\n",
      "Epoch [12/20], Step [25/48], Loss: 0.1337\n",
      "Start validation #12\n",
      "Validation #12  Average Loss: 0.2621\n",
      "Best performance at epoch: 12\n",
      "Save model in ./saved/LSTM\n",
      "Epoch [13/20], Step [25/48], Loss: 0.1472\n",
      "Start validation #13\n",
      "Validation #13  Average Loss: 0.2592\n",
      "Best performance at epoch: 13\n",
      "Save model in ./saved/LSTM\n",
      "Epoch [14/20], Step [25/48], Loss: 0.1467\n",
      "Start validation #14\n",
      "Validation #14  Average Loss: 0.2544\n",
      "Best performance at epoch: 14\n",
      "Save model in ./saved/LSTM\n",
      "Epoch [15/20], Step [25/48], Loss: 0.1753\n",
      "Start validation #15\n",
      "Validation #15  Average Loss: 0.2512\n",
      "Best performance at epoch: 15\n",
      "Save model in ./saved/LSTM\n",
      "Epoch [16/20], Step [25/48], Loss: 0.2030\n",
      "Start validation #16\n",
      "Validation #16  Average Loss: 0.2478\n",
      "Best performance at epoch: 16\n",
      "Save model in ./saved/LSTM\n",
      "Epoch [17/20], Step [25/48], Loss: 0.1794\n",
      "Start validation #17\n",
      "Validation #17  Average Loss: 0.2492\n",
      "Epoch [18/20], Step [25/48], Loss: 0.1570\n",
      "Start validation #18\n",
      "Validation #18  Average Loss: 0.2444\n",
      "Best performance at epoch: 18\n",
      "Save model in ./saved/LSTM\n",
      "Epoch [19/20], Step [25/48], Loss: 0.2000\n",
      "Start validation #19\n",
      "Validation #19  Average Loss: 0.2441\n",
      "Best performance at epoch: 19\n",
      "Save model in ./saved/LSTM\n",
      "Epoch [20/20], Step [25/48], Loss: 0.1684\n",
      "Start validation #20\n",
      "Validation #20  Average Loss: 0.2414\n",
      "Best performance at epoch: 20\n",
      "Save model in ./saved/LSTM\n"
     ]
    }
   ],
   "source": [
    "train(num_epochs, model, train_loader, criterion, optimizer, saved_dir, val_every, device)"
   ]
  },
  {
   "cell_type": "code",
   "execution_count": 29,
   "metadata": {},
   "outputs": [
    {
     "data": {
      "text/plain": [
       "IncompatibleKeys(missing_keys=[], unexpected_keys=[])"
      ]
     },
     "execution_count": 29,
     "metadata": {},
     "output_type": "execute_result"
    }
   ],
   "source": [
    "model_path = './saved/LSTM/best_model.pt'\n",
    "model = SimpleLSTM().to(device) \n",
    "\n",
    "checkpoint = torch.load(model_path)    \n",
    "state_dict = checkpoint['net']   \n",
    "model.load_state_dict(state_dict) "
   ]
  },
  {
   "cell_type": "code",
   "execution_count": 31,
   "metadata": {},
   "outputs": [
    {
     "name": "stdout",
     "output_type": "stream",
     "text": [
      "Start test..\n",
      "Test  Average Loss: 0.1615  Baseline Loss: 0.1864\n",
      "Above baseline performance!\n"
     ]
    }
   ],
   "source": [
    "test(model, test_loader, criterion, baseline_loss, device)"
   ]
  },
  {
   "cell_type": "code",
   "execution_count": 33,
   "metadata": {},
   "outputs": [
    {
     "name": "stdout",
     "output_type": "stream",
     "text": [
      "Prediction: -4.5 / Actual Temperature: -5.2\n",
      "Prediction: -4.4 / Actual Temperature: -8.6\n",
      "Prediction: 21.2 / Actual Temperature: 19.9\n",
      "Prediction: -4.7 / Actual Temperature: -14.7\n",
      "Prediction: 20.8 / Actual Temperature: 24.8\n",
      "Prediction: -5.6 / Actual Temperature: -10.7\n",
      "Prediction: 16.3 / Actual Temperature: 24.2\n",
      "Prediction: -11.7 / Actual Temperature: -23.2\n",
      "Prediction: 12.0 / Actual Temperature: 16.8\n",
      "Prediction: 1.2 / Actual Temperature: 6.1\n",
      "Prediction: 23.1 / Actual Temperature: 24.1\n",
      "Prediction: -3.1 / Actual Temperature: -11.7\n",
      "Prediction: -7.8 / Actual Temperature: -13.3\n",
      "Prediction: 2.9 / Actual Temperature: 0.4\n",
      "Prediction: 7.5 / Actual Temperature: 5.1\n"
     ]
    }
   ],
   "source": [
    "for i in range(15):\n",
    "    data_idx = np.random.randint(len(test_data))\n",
    "    sequence = test_data[data_idx][0]\n",
    "    sequence = torch.Tensor(sequence).unsqueeze(0).to(device)\n",
    "    #print(sequence.shape)\n",
    "    pred = model(sequence)\n",
    "    pred = pred.item() * test_data.std[0] + test_data.mean[0]\n",
    "    \n",
    "    target = test_data[data_idx][1][0] * test_data.std[0] + test_data.mean[0]\n",
    "    print('Prediction: {:.1f} / Actual Temperature: {:.1f}'.format(pred, target))"
   ]
  }
 ],
 "metadata": {
  "kernelspec": {
   "display_name": "Python 3",
   "language": "python",
   "name": "python3"
  },
  "language_info": {
   "codemirror_mode": {
    "name": "ipython",
    "version": 3
   },
   "file_extension": ".py",
   "mimetype": "text/x-python",
   "name": "python",
   "nbconvert_exporter": "python",
   "pygments_lexer": "ipython3",
   "version": "3.7.3"
  }
 },
 "nbformat": 4,
 "nbformat_minor": 2
}
