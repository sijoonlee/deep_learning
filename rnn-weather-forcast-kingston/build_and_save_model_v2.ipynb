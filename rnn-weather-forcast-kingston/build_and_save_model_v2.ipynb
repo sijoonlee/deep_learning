{
 "cells": [
  {
   "cell_type": "markdown",
   "metadata": {},
   "source": [
    "### Declare Global Variable"
   ]
  },
  {
   "cell_type": "code",
   "execution_count": 6,
   "metadata": {},
   "outputs": [],
   "source": [
    "RAW_DATA = \"./raw-data\"\n",
    "PROCESSED_DATA = \"./processed-data\"\n",
    "STATION = \"./station\"\n",
    "\n",
    "batch_size = 100\n",
    "num_epochs = 30\n",
    "learning_rate = 0.00003"
   ]
  },
  {
   "cell_type": "markdown",
   "metadata": {},
   "source": [
    "### Load Data"
   ]
  },
  {
   "cell_type": "code",
   "execution_count": 7,
   "metadata": {},
   "outputs": [],
   "source": [
    "# Load Data\n",
    "import pandas as pd\n",
    "import numpy as np\n",
    "def loadData(filename = \"modelSequence.csv\"):\n",
    "\n",
    "\n",
    "    dataset = pd.read_csv('{}/modelSequence.csv'.format(PROCESSED_DATA), header = 0)\n",
    "    dataset.set_index(dataset.columns[0], inplace=True)\n",
    "    # print(dataset[:5])\n",
    "\n",
    "    # Convert to numpy array\n",
    "    np_dataset = np.array(dataset)\n",
    "    # print(np_dataset.shape) # 40320, 6\n",
    "    # print(np_dataset.shape[0]) # 40320\n",
    "    # print(np_dataset.shape[1]) # 6\n",
    "    # print(np_dataset[:5])\n",
    "\n",
    "\n",
    "    # divide the dataset into three categories: train, validation, test\n",
    "    first = int(np_dataset.shape[0] * 0.7)\n",
    "    second = first + int(np_dataset.shape[0] * 0.2)\n",
    "\n",
    "    train_data = np_dataset[:first]\n",
    "    # print(train_data.shape)\n",
    "    validation_data = np_dataset[first:second]\n",
    "    # print(validation_data.shape)\n",
    "    test_data = np_dataset[second:]\n",
    "    # print(test_data.shape)\n",
    "    return train_data, validation_data, test_data\n",
    "\n",
    "train_data, validation_data, test_data = loadData()"
   ]
  },
  {
   "cell_type": "markdown",
   "metadata": {},
   "source": [
    "### Declare Dataset Class"
   ]
  },
  {
   "cell_type": "code",
   "execution_count": 8,
   "metadata": {},
   "outputs": [],
   "source": [
    "import torch\n",
    "import torch.nn as nn\n",
    "import matplotlib.pyplot as plt\n",
    "from torch.utils.data import Dataset, DataLoader\n",
    "%matplotlib inline"
   ]
  },
  {
   "cell_type": "code",
   "execution_count": 9,
   "metadata": {},
   "outputs": [],
   "source": [
    "class Dataset(Dataset):\n",
    "    def __init__(self, data, mode, mean=None, std=None, seq_len=480, target_delay=24, stride=5, normalize=True):\n",
    "        self.mode = mode\n",
    "        self.seq_len = seq_len\n",
    "        self.target_delay = target_delay\n",
    "        self.stride = stride\n",
    "        self.data = data\n",
    "        if mode == 'train':\n",
    "            assert (mean is None) and (std is None), \\\n",
    "                \"Argument should be None on train mode\"\n",
    "            self.mean = np.mean(data, axis=0)\n",
    "            self.std = np.std(data, axis=0) \n",
    "        else:\n",
    "            assert (mean is not None) and (std is not None), \\\n",
    "                \"You can use mean/std from train_data\"\n",
    "            self.mean = mean\n",
    "            self.std = std\n",
    "        \n",
    "        if normalize:\n",
    "            self.data = (self.data - self.mean) / self.std\n",
    "    \n",
    "    def __getitem__(self, index):\n",
    "        index = index * self.stride\n",
    "        sequence = self.data[index:index + self.seq_len, :]\n",
    "        # print(sequence.shape) (480,9)\n",
    "        target = self.data[index+self.seq_len+self.target_delay-1, 0]\n",
    "        target = np.expand_dims(target, axis=0)\n",
    "        # print(target.shape) (1,)\n",
    "        return sequence, target\n",
    "    \n",
    "    def __len__(self):\n",
    "        max_idx = len(self.data) - self.seq_len - self.target_delay\n",
    "        num_of_idx = max_idx // self.stride\n",
    "        return num_of_idx"
   ]
  },
  {
   "cell_type": "markdown",
   "metadata": {},
   "source": [
    "### Mount the data into Loaders"
   ]
  },
  {
   "cell_type": "code",
   "execution_count": 10,
   "metadata": {},
   "outputs": [],
   "source": [
    "train_data = Dataset(train_data, 'train', mean=None, std=None)\n",
    "val_data = Dataset(validation_data, 'val', mean=train_data.mean, std=train_data.std)\n",
    "test_data = Dataset(test_data, 'test', mean=train_data.mean, std=train_data.std)\n",
    "\n",
    "train_loader = DataLoader(train_data, batch_size=batch_size, shuffle=True, drop_last=True)\n",
    "val_loader = DataLoader(val_data, batch_size=batch_size, shuffle=False, drop_last=True)\n",
    "test_loader = DataLoader(test_data, batch_size=batch_size, shuffle=False, drop_last=True)"
   ]
  },
  {
   "cell_type": "markdown",
   "metadata": {},
   "source": [
    "### Define baseline evaluation function\n",
    "\n",
    "- Sequence is 480 hours data\n",
    "- Prediction is the temperature after 24 hours later\n",
    "- Baseline performance means here is the temperature at the last point of the Sequence"
   ]
  },
  {
   "cell_type": "code",
   "execution_count": 11,
   "metadata": {},
   "outputs": [],
   "source": [
    "def eval_baseline(data_loader, criterion):\n",
    "    total_loss = 0\n",
    "    cnt = 0\n",
    "    for step, (sequence, target) in enumerate(data_loader):\n",
    "        \n",
    "        # print(\"seq\", sequence.shape) torch.Size([100, 480, 9]) # batch_size = 100\n",
    "        pred = sequence[:, -1:, :1]\n",
    "        # print(\"pred\", pred.shape) # torch.Size([100, 1, 1])\n",
    "        pred = torch.squeeze(pred, 1)\n",
    "        # print(\"pred\", pred.shape) # torch.Size([100, 1])\n",
    "        # print(\"tar\", target.shape) torch.Size([100, 1])\n",
    "        loss = criterion(pred, target)\n",
    "            \n",
    "        total_loss += loss\n",
    "        cnt += 1\n",
    "    avrg_loss = total_loss / cnt\n",
    "    print('Baseline Average Loss: {:.4f}'.format(avrg_loss))\n",
    "    return avrg_loss.item()"
   ]
  },
  {
   "cell_type": "code",
   "execution_count": 12,
   "metadata": {},
   "outputs": [
    {
     "name": "stdout",
     "output_type": "stream",
     "text": [
      "Baseline Average Loss: 0.0852\n"
     ]
    }
   ],
   "source": [
    "baseline_loss = eval_baseline(test_loader, nn.MSELoss())"
   ]
  },
  {
   "cell_type": "code",
   "execution_count": 13,
   "metadata": {},
   "outputs": [
    {
     "name": "stdout",
     "output_type": "stream",
     "text": [
      "Predicted Temp: 4.8 / Actual Temp: 8.8\n",
      "Predicted Temp: 25.9 / Actual Temp: 25.2\n",
      "Predicted Temp: 21.4 / Actual Temp: 21.1\n",
      "Predicted Temp: 28.3 / Actual Temp: 20.1\n",
      "Predicted Temp: 9.8 / Actual Temp: 11.1\n",
      "Predicted Temp: -4.1 / Actual Temp: 0.3\n",
      "Predicted Temp: 9.7 / Actual Temp: 11.3\n",
      "Predicted Temp: 6.0 / Actual Temp: 6.5\n",
      "Predicted Temp: 20.2 / Actual Temp: 21.5\n",
      "Predicted Temp: 5.2 / Actual Temp: 10.0\n",
      "Predicted Temp: 27.8 / Actual Temp: 25.8\n",
      "Predicted Temp: 7.7 / Actual Temp: 9.1\n",
      "Predicted Temp: 18.1 / Actual Temp: 15.6\n",
      "Predicted Temp: 10.9 / Actual Temp: 16.2\n",
      "Predicted Temp: 21.5 / Actual Temp: 22.3\n"
     ]
    }
   ],
   "source": [
    "for i in range(15):\n",
    "    data_idx = np.random.randint(len(test_data))\n",
    "    pred = test_data[data_idx][0][-1, 0]\n",
    "    pred = pred * test_data.std[0] + test_data.mean[0]  # un-normalization\n",
    "    target = test_data[data_idx][1][0] * test_data.std[0] + test_data.mean[0] # un-normalization\n",
    "    print('Predicted Temp: {:.1f} / Actual Temp: {:.1f}'.format(pred, target))"
   ]
  },
  {
   "cell_type": "markdown",
   "metadata": {},
   "source": [
    "### Define LSTM"
   ]
  },
  {
   "cell_type": "code",
   "execution_count": 14,
   "metadata": {},
   "outputs": [],
   "source": [
    "class SimpleLSTM(nn.Module):\n",
    "    def __init__(self, input_size = 7, output_size = 1, hidden_size=100, num_layers=1):\n",
    "        super().__init__()\n",
    "        self.input_size = input_size\n",
    "        self.output_size = output_size\n",
    "        self.hidden_size = hidden_size\n",
    "        self.num_layers = num_layers\n",
    "        self.lstm = nn.LSTM(self.input_size, self.hidden_size, self.num_layers, batch_first=True) \n",
    "        self.fc = nn.Linear(self.hidden_size, self.output_size) \n",
    "\n",
    "    \n",
    "    def init_hidden(self, batch_size):\n",
    "        hidden = torch.zeros(self.num_layers, batch_size, self.hidden_size)\n",
    "        cell = torch.zeros(self.num_layers, batch_size, self.hidden_size)\n",
    "        return hidden, cell\n",
    "    \n",
    "    def forward(self, x):\n",
    "        # hidden, cell state init\n",
    "        h, c = self.init_hidden(x.size(0))\n",
    "        h, c = h.to(x.device), c.to(x.device)\n",
    "        out, (h, c) = self.lstm(x, (h, c))     \n",
    "        final_output = self.fc(out[:, -1:, :])     \n",
    "        final_output = torch.squeeze(final_output, dim = 1) # shape (100,1)\n",
    "\n",
    "        return final_output"
   ]
  },
  {
   "cell_type": "markdown",
   "metadata": {},
   "source": [
    "### Define Train/Validation/Test Functions"
   ]
  },
  {
   "cell_type": "code",
   "execution_count": 15,
   "metadata": {},
   "outputs": [],
   "source": [
    "def train(num_epochs, model, data_loader, criterion, optimizer, saved_dir, val_every, device):\n",
    "    print('Start training..')\n",
    "    best_loss = 9999999\n",
    "    for epoch in range(num_epochs):\n",
    "        for step, (sequence, target) in enumerate(data_loader):\n",
    "            sequence = sequence.type(torch.float32)\n",
    "            target = target.type(torch.float32)\n",
    "            sequence, target = sequence.to(device), target.to(device)\n",
    "\n",
    "            outputs = model(sequence)  \n",
    "            loss = criterion(outputs, target)     \n",
    "            optimizer.zero_grad() \n",
    "            loss.backward()       \n",
    "            optimizer.step()       \n",
    "            \n",
    "            if (step + 1) % 25 == 0:\n",
    "                print('Epoch [{}/{}], Step [{}/{}], Loss: {:.4f}'.format(\n",
    "                    epoch+1, num_epochs, step+1, len(train_loader), loss.item()))\n",
    "                \n",
    "        if (epoch + 1) % val_every == 0:\n",
    "            avrg_loss = validation(epoch + 1, model, val_loader, criterion, device)\n",
    "            if avrg_loss < best_loss:\n",
    "                print('Best performance at epoch: {}'.format(epoch + 1))\n",
    "                print('Save model in', saved_dir)\n",
    "                best_loss = avrg_loss\n",
    "                save_model(model, saved_dir)"
   ]
  },
  {
   "cell_type": "code",
   "execution_count": 16,
   "metadata": {},
   "outputs": [],
   "source": [
    "def validation(epoch, model, data_loader, criterion, device):\n",
    "    print('Start validation #{}'.format(epoch))\n",
    "    model.eval()\n",
    "    with torch.no_grad():\n",
    "        total_loss = 0\n",
    "        cnt = 0\n",
    "        for step, (sequence, target) in enumerate(data_loader):\n",
    "            sequence = sequence.type(torch.float32)\n",
    "            target = target.type(torch.float32)\n",
    "            sequence, target = sequence.to(device), target.to(device)\n",
    "\n",
    "            outputs = model(sequence)  \n",
    "            loss = criterion(outputs, target)\n",
    "\n",
    "            total_loss += loss\n",
    "            cnt += 1\n",
    "        avrg_loss = total_loss / cnt\n",
    "        print('Validation #{}  Average Loss: {:.4f}'.format(epoch, avrg_loss))\n",
    "    model.train()\n",
    "    return avrg_loss"
   ]
  },
  {
   "cell_type": "code",
   "execution_count": 17,
   "metadata": {},
   "outputs": [],
   "source": [
    "def test(model, data_loader, criterion, baseline_loss, device):\n",
    "    print('Start test..')\n",
    "    model.eval()\n",
    "    with torch.no_grad():\n",
    "        total_loss = 0\n",
    "        cnt = 0\n",
    "        for step, (sequence, target) in enumerate(data_loader):\n",
    "            sequence = sequence.type(torch.float32)\n",
    "            target = target.type(torch.float32)\n",
    "            sequence, target = sequence.to(device), target.to(device)\n",
    "            # print(sequence.shape) 100,480,9\n",
    "            outputs = model(sequence) \n",
    "            loss = criterion(outputs, target)   \n",
    "            total_loss += loss\n",
    "            cnt += 1\n",
    "        avrg_loss = total_loss / cnt\n",
    "        print('Test  Average Loss: {:.4f}  Baseline Loss: {:.4f}'.format(avrg_loss, baseline_loss))\n",
    "        \n",
    "    if avrg_loss < baseline_loss:\n",
    "        print('Above baseline performance!')\n",
    "    else:\n",
    "        print('Below baseline performance')"
   ]
  },
  {
   "cell_type": "markdown",
   "metadata": {},
   "source": [
    "### Train and Save Model"
   ]
  },
  {
   "cell_type": "code",
   "execution_count": 18,
   "metadata": {},
   "outputs": [],
   "source": [
    "def save_model(model, saved_dir, file_name='best_model.pt'):\n",
    "    import os\n",
    "    os.makedirs(saved_dir, exist_ok=True)\n",
    "    check_point = {\n",
    "        'net': model.state_dict()\n",
    "    }\n",
    "    output_path = os.path.join(saved_dir, file_name)\n",
    "    torch.save(check_point, output_path)"
   ]
  },
  {
   "cell_type": "code",
   "execution_count": 19,
   "metadata": {},
   "outputs": [],
   "source": [
    "device = \"cuda\" if torch.cuda.is_available() else \"cpu\" "
   ]
  },
  {
   "cell_type": "code",
   "execution_count": 20,
   "metadata": {},
   "outputs": [],
   "source": [
    "torch.manual_seed(7777) \n",
    "model = SimpleLSTM()          \n",
    "model = model.to(device)\n",
    "criterion = nn.MSELoss()    \n",
    "optimizer = torch.optim.Adam(model.parameters(), lr = learning_rate)     \n",
    "val_every = 1\n",
    "saved_dir = './saved/LSTM'"
   ]
  },
  {
   "cell_type": "code",
   "execution_count": 21,
   "metadata": {},
   "outputs": [
    {
     "name": "stdout",
     "output_type": "stream",
     "text": [
      "Start training..\n",
      "Epoch [1/30], Step [25/55], Loss: 0.9944\n",
      "Epoch [1/30], Step [50/55], Loss: 0.9926\n",
      "Start validation #1\n",
      "Validation #1  Average Loss: 1.0611\n",
      "Best performance at epoch: 1\n",
      "Save model in ./saved/LSTM\n",
      "Epoch [2/30], Step [25/55], Loss: 1.0302\n",
      "Epoch [2/30], Step [50/55], Loss: 0.9569\n",
      "Start validation #2\n",
      "Validation #2  Average Loss: 0.9997\n",
      "Best performance at epoch: 2\n",
      "Save model in ./saved/LSTM\n",
      "Epoch [3/30], Step [25/55], Loss: 0.9827\n",
      "Epoch [3/30], Step [50/55], Loss: 0.9354\n",
      "Start validation #3\n",
      "Validation #3  Average Loss: 0.9314\n",
      "Best performance at epoch: 3\n",
      "Save model in ./saved/LSTM\n",
      "Epoch [4/30], Step [25/55], Loss: 0.8337\n",
      "Epoch [4/30], Step [50/55], Loss: 0.8170\n",
      "Start validation #4\n",
      "Validation #4  Average Loss: 0.8491\n",
      "Best performance at epoch: 4\n",
      "Save model in ./saved/LSTM\n",
      "Epoch [5/30], Step [25/55], Loss: 0.7664\n",
      "Epoch [5/30], Step [50/55], Loss: 0.6448\n",
      "Start validation #5\n",
      "Validation #5  Average Loss: 0.7396\n",
      "Best performance at epoch: 5\n",
      "Save model in ./saved/LSTM\n",
      "Epoch [6/30], Step [25/55], Loss: 0.6199\n",
      "Epoch [6/30], Step [50/55], Loss: 0.4704\n",
      "Start validation #6\n",
      "Validation #6  Average Loss: 0.5807\n",
      "Best performance at epoch: 6\n",
      "Save model in ./saved/LSTM\n",
      "Epoch [7/30], Step [25/55], Loss: 0.4145\n",
      "Epoch [7/30], Step [50/55], Loss: 0.3425\n",
      "Start validation #7\n",
      "Validation #7  Average Loss: 0.4159\n",
      "Best performance at epoch: 7\n",
      "Save model in ./saved/LSTM\n",
      "Epoch [8/30], Step [25/55], Loss: 0.2669\n",
      "Epoch [8/30], Step [50/55], Loss: 0.3306\n",
      "Start validation #8\n",
      "Validation #8  Average Loss: 0.3067\n",
      "Best performance at epoch: 8\n",
      "Save model in ./saved/LSTM\n",
      "Epoch [9/30], Step [25/55], Loss: 0.1853\n",
      "Epoch [9/30], Step [50/55], Loss: 0.1771\n",
      "Start validation #9\n",
      "Validation #9  Average Loss: 0.2096\n",
      "Best performance at epoch: 9\n",
      "Save model in ./saved/LSTM\n",
      "Epoch [10/30], Step [25/55], Loss: 0.1999\n",
      "Epoch [10/30], Step [50/55], Loss: 0.1843\n",
      "Start validation #10\n",
      "Validation #10  Average Loss: 0.1883\n",
      "Best performance at epoch: 10\n",
      "Save model in ./saved/LSTM\n",
      "Epoch [11/30], Step [25/55], Loss: 0.1248\n",
      "Epoch [11/30], Step [50/55], Loss: 0.1794\n",
      "Start validation #11\n",
      "Validation #11  Average Loss: 0.1828\n",
      "Best performance at epoch: 11\n",
      "Save model in ./saved/LSTM\n",
      "Epoch [12/30], Step [25/55], Loss: 0.2194\n",
      "Epoch [12/30], Step [50/55], Loss: 0.1905\n",
      "Start validation #12\n",
      "Validation #12  Average Loss: 0.1783\n",
      "Best performance at epoch: 12\n",
      "Save model in ./saved/LSTM\n",
      "Epoch [13/30], Step [25/55], Loss: 0.1491\n",
      "Epoch [13/30], Step [50/55], Loss: 0.2010\n",
      "Start validation #13\n",
      "Validation #13  Average Loss: 0.1741\n",
      "Best performance at epoch: 13\n",
      "Save model in ./saved/LSTM\n",
      "Epoch [14/30], Step [25/55], Loss: 0.2202\n",
      "Epoch [14/30], Step [50/55], Loss: 0.1671\n",
      "Start validation #14\n",
      "Validation #14  Average Loss: 0.1705\n",
      "Best performance at epoch: 14\n",
      "Save model in ./saved/LSTM\n",
      "Epoch [15/30], Step [25/55], Loss: 0.1936\n",
      "Epoch [15/30], Step [50/55], Loss: 0.1441\n",
      "Start validation #15\n",
      "Validation #15  Average Loss: 0.1691\n",
      "Best performance at epoch: 15\n",
      "Save model in ./saved/LSTM\n",
      "Epoch [16/30], Step [25/55], Loss: 0.1909\n",
      "Epoch [16/30], Step [50/55], Loss: 0.1827\n",
      "Start validation #16\n",
      "Validation #16  Average Loss: 0.1669\n",
      "Best performance at epoch: 16\n",
      "Save model in ./saved/LSTM\n",
      "Epoch [17/30], Step [25/55], Loss: 0.1460\n",
      "Epoch [17/30], Step [50/55], Loss: 0.1962\n",
      "Start validation #17\n",
      "Validation #17  Average Loss: 0.1659\n",
      "Best performance at epoch: 17\n",
      "Save model in ./saved/LSTM\n",
      "Epoch [18/30], Step [25/55], Loss: 0.1477\n",
      "Epoch [18/30], Step [50/55], Loss: 0.1549\n",
      "Start validation #18\n",
      "Validation #18  Average Loss: 0.1640\n",
      "Best performance at epoch: 18\n",
      "Save model in ./saved/LSTM\n",
      "Epoch [19/30], Step [25/55], Loss: 0.1582\n",
      "Epoch [19/30], Step [50/55], Loss: 0.1385\n",
      "Start validation #19\n",
      "Validation #19  Average Loss: 0.1634\n",
      "Best performance at epoch: 19\n",
      "Save model in ./saved/LSTM\n",
      "Epoch [20/30], Step [25/55], Loss: 0.1478\n",
      "Epoch [20/30], Step [50/55], Loss: 0.1374\n",
      "Start validation #20\n",
      "Validation #20  Average Loss: 0.1613\n",
      "Best performance at epoch: 20\n",
      "Save model in ./saved/LSTM\n",
      "Epoch [21/30], Step [25/55], Loss: 0.1349\n",
      "Epoch [21/30], Step [50/55], Loss: 0.2331\n",
      "Start validation #21\n",
      "Validation #21  Average Loss: 0.1612\n",
      "Best performance at epoch: 21\n",
      "Save model in ./saved/LSTM\n",
      "Epoch [22/30], Step [25/55], Loss: 0.1853\n",
      "Epoch [22/30], Step [50/55], Loss: 0.1207\n",
      "Start validation #22\n",
      "Validation #22  Average Loss: 0.1603\n",
      "Best performance at epoch: 22\n",
      "Save model in ./saved/LSTM\n",
      "Epoch [23/30], Step [25/55], Loss: 0.1693\n",
      "Epoch [23/30], Step [50/55], Loss: 0.1644\n",
      "Start validation #23\n",
      "Validation #23  Average Loss: 0.1602\n",
      "Best performance at epoch: 23\n",
      "Save model in ./saved/LSTM\n",
      "Epoch [24/30], Step [25/55], Loss: 0.1489\n",
      "Epoch [24/30], Step [50/55], Loss: 0.1820\n",
      "Start validation #24\n",
      "Validation #24  Average Loss: 0.1590\n",
      "Best performance at epoch: 24\n",
      "Save model in ./saved/LSTM\n",
      "Epoch [25/30], Step [25/55], Loss: 0.1593\n",
      "Epoch [25/30], Step [50/55], Loss: 0.1735\n",
      "Start validation #25\n",
      "Validation #25  Average Loss: 0.1580\n",
      "Best performance at epoch: 25\n",
      "Save model in ./saved/LSTM\n",
      "Epoch [26/30], Step [25/55], Loss: 0.1774\n",
      "Epoch [26/30], Step [50/55], Loss: 0.1577\n",
      "Start validation #26\n",
      "Validation #26  Average Loss: 0.1574\n",
      "Best performance at epoch: 26\n",
      "Save model in ./saved/LSTM\n",
      "Epoch [27/30], Step [25/55], Loss: 0.1145\n",
      "Epoch [27/30], Step [50/55], Loss: 0.1729\n",
      "Start validation #27\n",
      "Validation #27  Average Loss: 0.1572\n",
      "Best performance at epoch: 27\n",
      "Save model in ./saved/LSTM\n",
      "Epoch [28/30], Step [25/55], Loss: 0.1417\n",
      "Epoch [28/30], Step [50/55], Loss: 0.1776\n",
      "Start validation #28\n",
      "Validation #28  Average Loss: 0.1565\n",
      "Best performance at epoch: 28\n",
      "Save model in ./saved/LSTM\n",
      "Epoch [29/30], Step [25/55], Loss: 0.1270\n",
      "Epoch [29/30], Step [50/55], Loss: 0.1254\n",
      "Start validation #29\n",
      "Validation #29  Average Loss: 0.1569\n",
      "Epoch [30/30], Step [25/55], Loss: 0.1517\n",
      "Epoch [30/30], Step [50/55], Loss: 0.1788\n",
      "Start validation #30\n",
      "Validation #30  Average Loss: 0.1550\n",
      "Best performance at epoch: 30\n",
      "Save model in ./saved/LSTM\n"
     ]
    }
   ],
   "source": [
    "train(num_epochs, model, train_loader, criterion, optimizer, saved_dir, val_every, device)"
   ]
  },
  {
   "cell_type": "markdown",
   "metadata": {},
   "source": [
    "### Load and Test Model"
   ]
  },
  {
   "cell_type": "code",
   "execution_count": 22,
   "metadata": {},
   "outputs": [
    {
     "data": {
      "text/plain": [
       "IncompatibleKeys(missing_keys=[], unexpected_keys=[])"
      ]
     },
     "execution_count": 22,
     "metadata": {},
     "output_type": "execute_result"
    }
   ],
   "source": [
    "model_path = './saved/LSTM/best_model.pt'\n",
    "model = SimpleLSTM().to(device) \n",
    "\n",
    "checkpoint = torch.load(model_path)    \n",
    "state_dict = checkpoint['net']   \n",
    "model.load_state_dict(state_dict) "
   ]
  },
  {
   "cell_type": "code",
   "execution_count": 23,
   "metadata": {},
   "outputs": [
    {
     "name": "stdout",
     "output_type": "stream",
     "text": [
      "Start test..\n",
      "Test  Average Loss: 0.0832  Baseline Loss: 0.0852\n",
      "Above baseline performance!\n"
     ]
    }
   ],
   "source": [
    "test(model, test_loader, criterion, baseline_loss, device)"
   ]
  },
  {
   "cell_type": "code",
   "execution_count": 24,
   "metadata": {},
   "outputs": [
    {
     "name": "stdout",
     "output_type": "stream",
     "text": [
      "Prediction: 19.9 / Actual Temperature: 21.4\n",
      "Prediction: 21.1 / Actual Temperature: 14.6\n",
      "Prediction: 17.4 / Actual Temperature: 21.3\n",
      "Prediction: 11.6 / Actual Temperature: 18.6\n",
      "Prediction: 14.3 / Actual Temperature: 8.9\n",
      "Prediction: 16.9 / Actual Temperature: 11.5\n",
      "Prediction: -2.8 / Actual Temperature: -4.9\n",
      "Prediction: 17.5 / Actual Temperature: 22.3\n",
      "Prediction: 17.8 / Actual Temperature: 12.8\n",
      "Prediction: 9.1 / Actual Temperature: 11.7\n",
      "Prediction: 19.6 / Actual Temperature: 22.6\n",
      "Prediction: 23.5 / Actual Temperature: 25.3\n",
      "Prediction: 15.1 / Actual Temperature: 16.7\n",
      "Prediction: 22.9 / Actual Temperature: 21.8\n",
      "Prediction: 19.2 / Actual Temperature: 21.6\n"
     ]
    }
   ],
   "source": [
    "for i in range(15):\n",
    "    data_idx = np.random.randint(len(test_data))\n",
    "    sequence = test_data[data_idx][0]\n",
    "    sequence = torch.Tensor(sequence).unsqueeze(0).to(device)\n",
    "    #print(sequence.shape)\n",
    "    pred = model(sequence)\n",
    "    pred = pred.item() * test_data.std[0] + test_data.mean[0]\n",
    "    \n",
    "    target = test_data[data_idx][1][0] * test_data.std[0] + test_data.mean[0]\n",
    "    print('Prediction: {:.1f} / Actual Temperature: {:.1f}'.format(pred, target))"
   ]
  }
 ],
 "metadata": {
  "kernelspec": {
   "display_name": "Python 3",
   "language": "python",
   "name": "python3"
  },
  "language_info": {
   "codemirror_mode": {
    "name": "ipython",
    "version": 3
   },
   "file_extension": ".py",
   "mimetype": "text/x-python",
   "name": "python",
   "nbconvert_exporter": "python",
   "pygments_lexer": "ipython3",
   "version": "3.7.3"
  }
 },
 "nbformat": 4,
 "nbformat_minor": 2
}
