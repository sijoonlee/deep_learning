{
 "cells": [
  {
   "cell_type": "markdown",
   "metadata": {},
   "source": [
    "### Load Input Data"
   ]
  },
  {
   "cell_type": "code",
   "execution_count": 1,
   "metadata": {},
   "outputs": [
    {
     "name": "stdout",
     "output_type": "stream",
     "text": [
      "                  Temp (°C)  Dew Point Temp (°C)  Rel Hum (%)  \\\n",
      "Date/Time                                                       \n",
      "2019-08-21 00:00       23.1                 21.7         92.0   \n",
      "2019-08-21 01:00       23.3                 21.8         91.0   \n",
      "2019-08-21 02:00       23.2                 22.1         94.0   \n",
      "2019-08-21 03:00       22.9                 22.7         99.0   \n",
      "2019-08-21 04:00       22.6                 22.6        100.0   \n",
      "2019-08-21 05:00       22.6                 22.6        100.0   \n",
      "2019-08-21 06:00       22.8                 21.7         94.0   \n",
      "2019-08-21 07:00       20.6                 20.6        100.0   \n",
      "2019-08-21 08:00       20.4                 20.4        100.0   \n",
      "2019-08-21 09:00       21.7                 21.7        100.0   \n",
      "2019-08-21 10:00       23.0                 21.9         93.0   \n",
      "2019-08-21 11:00       23.8                 20.9         84.0   \n",
      "2019-08-21 12:00       23.9                 22.8         94.0   \n",
      "2019-08-21 13:00       25.2                 23.3         89.0   \n",
      "2019-08-21 14:00       25.0                 21.8         82.0   \n",
      "2019-08-21 15:00       25.4                 19.8         71.0   \n",
      "2019-08-21 16:00       24.0                 21.4         85.0   \n",
      "2019-08-21 17:00       23.9                 22.6         92.0   \n",
      "2019-08-21 18:00       23.3                 23.1         99.0   \n",
      "2019-08-21 19:00       22.8                 22.8        100.0   \n",
      "2019-08-21 20:00       22.6                 22.6        100.0   \n",
      "2019-08-21 21:00       22.7                 22.7        100.0   \n",
      "2019-08-21 22:00       23.4                 23.4        100.0   \n",
      "2019-08-21 23:00       23.8                 23.4         98.0   \n",
      "\n",
      "                  Wind Dir (10s deg)  Wind Spd (km/h)  Stn Press (kPa)  Time  \n",
      "Date/Time                                                                     \n",
      "2019-08-21 00:00                16.0              9.0           100.24   0.0  \n",
      "2019-08-21 01:00                17.0             17.0           100.16   1.0  \n",
      "2019-08-21 02:00                18.0             16.0           100.12   2.0  \n",
      "2019-08-21 03:00                19.0             11.0           100.07   3.0  \n",
      "2019-08-21 04:00                17.0              8.0            99.99   4.0  \n",
      "2019-08-21 05:00                19.0             14.0            99.99   5.0  \n",
      "2019-08-21 06:00                30.0             10.0           100.06   6.0  \n",
      "2019-08-21 07:00                33.0             16.0           100.09   7.0  \n",
      "2019-08-21 08:00                12.0              1.0           100.05   8.0  \n",
      "2019-08-21 09:00                12.0             12.0           100.02   9.0  \n",
      "2019-08-21 10:00                18.0              9.0           100.01  10.0  \n",
      "2019-08-21 11:00                19.0             21.0            99.96  11.0  \n",
      "2019-08-21 12:00                18.0             22.0           100.01  12.0  \n",
      "2019-08-21 13:00                19.0             23.0           100.02  13.0  \n",
      "2019-08-21 14:00                18.0             23.0            99.90  14.0  \n",
      "2019-08-21 15:00                19.0             22.0            99.87  15.0  \n",
      "2019-08-21 16:00                19.0             24.0            99.85  16.0  \n",
      "2019-08-21 17:00                19.0             19.0            99.83  17.0  \n",
      "2019-08-21 18:00                18.0             20.0            99.74  18.0  \n",
      "2019-08-21 19:00                19.0             18.0            99.76  19.0  \n",
      "2019-08-21 20:00                20.0             15.0            99.81  20.0  \n",
      "2019-08-21 21:00                22.0              9.0            99.78  21.0  \n",
      "2019-08-21 22:00                21.0             15.0            99.74  22.0  \n",
      "2019-08-21 23:00                23.0             15.0            99.75  23.0  \n",
      "torch.Size([1, 503, 7])\n"
     ]
    }
   ],
   "source": [
    "PROCESSED_DATA = \"./processed-data\"\n",
    "\n",
    "import torch\n",
    "import pandas as pd\n",
    "import numpy as np\n",
    "\n",
    "dataset = pd.read_csv('{}/latestSequence.csv'.format(PROCESSED_DATA), header = 0)\n",
    "dataset.set_index(dataset.columns[0], inplace=True)\n",
    "print(dataset[-24:])\n",
    "input_data = np.array(dataset)\n",
    "mean = np.mean(input_data, axis=0)\n",
    "std = np.std(input_data, axis=0) \n",
    "input_data = (input_data - mean)/std  \n",
    "input_data = torch.Tensor(input_data).unsqueeze(0)\n",
    "print(input_data.shape)"
   ]
  },
  {
   "cell_type": "markdown",
   "metadata": {},
   "source": [
    "### Set Model"
   ]
  },
  {
   "cell_type": "code",
   "execution_count": 4,
   "metadata": {},
   "outputs": [],
   "source": [
    "import torch\n",
    "import torch.nn as nn\n",
    "\n",
    "class SimpleLSTM(nn.Module):\n",
    "    def __init__(self, input_size = 7, output_size = 1, hidden_size=100, num_layers=1):\n",
    "        super().__init__()\n",
    "        self.input_size = input_size\n",
    "        self.output_size = output_size\n",
    "        self.hidden_size = hidden_size\n",
    "        self.num_layers = num_layers\n",
    "        self.lstm = nn.LSTM(self.input_size, self.hidden_size, self.num_layers, batch_first=True) \n",
    "        self.fc = nn.Linear(self.hidden_size, self.output_size) \n",
    "\n",
    "    \n",
    "    def init_hidden(self, batch_size):\n",
    "        hidden = torch.zeros(self.num_layers, batch_size, self.hidden_size)\n",
    "        cell = torch.zeros(self.num_layers, batch_size, self.hidden_size)\n",
    "        return hidden, cell\n",
    "    \n",
    "    def forward(self, x):\n",
    "        # hidden, cell state init\n",
    "        h, c = self.init_hidden(x.size(0))\n",
    "        h, c = h.to(x.device), c.to(x.device)\n",
    "        out, (h, c) = self.lstm(x, (h, c))     \n",
    "        final_output = self.fc(out[:, -1:, :])     \n",
    "        final_output = torch.squeeze(final_output, dim = 1) # shape (100,1)\n",
    "\n",
    "        return final_output"
   ]
  },
  {
   "cell_type": "markdown",
   "metadata": {},
   "source": [
    "### Load Model and Predict  \n",
    "\n",
    "The input data are 24 set of 480 hours data till 00, 01, ...,  23 hour on Aug. 21th (Yesterday)  \n",
    "The predictions are temperatures at 00 hour, 01 hour, ..., 23 hour on Aug. 22th (Today)"
   ]
  },
  {
   "cell_type": "code",
   "execution_count": 6,
   "metadata": {},
   "outputs": [
    {
     "data": {
      "text/plain": [
       "IncompatibleKeys(missing_keys=[], unexpected_keys=[])"
      ]
     },
     "execution_count": 6,
     "metadata": {},
     "output_type": "execute_result"
    }
   ],
   "source": [
    "model_path = './saved/LSTM/best_model.pt'\n",
    "model = SimpleLSTM()\n",
    "\n",
    "checkpoint = torch.load(model_path)    \n",
    "state_dict = checkpoint['net']   \n",
    "model.load_state_dict(state_dict) \n"
   ]
  },
  {
   "cell_type": "code",
   "execution_count": 7,
   "metadata": {},
   "outputs": [
    {
     "name": "stdout",
     "output_type": "stream",
     "text": [
      "00 - 21.76\n",
      "01 - 21.93\n",
      "02 - 22.16\n",
      "03 - 22.43\n",
      "04 - 22.71\n",
      "05 - 22.95\n",
      "06 - 23.16\n",
      "07 - 23.16\n",
      "08 - 23.23\n",
      "09 - 23.30\n",
      "10 - 23.42\n",
      "11 - 23.53\n",
      "12 - 23.54\n",
      "13 - 23.63\n",
      "14 - 23.73\n",
      "15 - 23.81\n",
      "16 - 23.71\n",
      "17 - 23.61\n",
      "18 - 23.45\n",
      "19 - 23.27\n",
      "20 - 23.10\n",
      "21 - 22.96\n",
      "22 - 22.83\n",
      "23 - 22.73\n"
     ]
    }
   ],
   "source": [
    "preds = []\n",
    "\n",
    "for count in range(0,24):\n",
    "    pred = model(input_data[:, count:480+count, :])\n",
    "    pred = pred.item() * std[0] + mean[0] # de-normalization\n",
    "    preds.append(pred)\n",
    "\n",
    "count = 0\n",
    "for pred in preds:\n",
    "    print(\"{:02d} - {:2.2f}\".format(count, pred))\n",
    "    count = count+1\n",
    "\n",
    "# The actual temp was 17.0\n",
    "# http://climate.weather.gc.ca/climate_data/hourly_data_e.html?hlyRange=2008-07-15%7C2019-08-07&dlyRange=2008-07-15%7C2019-08-07&mlyRange=%7C&StationID=47267&Prov=ON&urlExtension=_e.html&searchType=stnProv&optLimit=specDate&StartYear=1840&EndYear=2019&selRowPerPage=25&Line=74&Month=8&Day=1&lstProvince=ON&timeframe=1&Year=2019\n"
   ]
  },
  {
   "cell_type": "markdown",
   "metadata": {},
   "source": [
    "### Summary\n",
    "\n",
    "1) LSTM Model was trained on Kingston Climate Station's data between 2015.1.1. ~ 2019.8.21  \n",
    "   Weakness - The prediction is dependent on only one station in Kingston  \n",
    "   \n",
    "2) Model gets 480 hours data as input and predicts the temperature 24 hours later  "
   ]
  }
 ],
 "metadata": {
  "kernelspec": {
   "display_name": "Python 3",
   "language": "python",
   "name": "python3"
  },
  "language_info": {
   "codemirror_mode": {
    "name": "ipython",
    "version": 3
   },
   "file_extension": ".py",
   "mimetype": "text/x-python",
   "name": "python",
   "nbconvert_exporter": "python",
   "pygments_lexer": "ipython3",
   "version": "3.7.3"
  }
 },
 "nbformat": 4,
 "nbformat_minor": 2
}
