{
 "cells": [
  {
   "cell_type": "markdown",
   "metadata": {},
   "source": [
    "### Load Input Data"
   ]
  },
  {
   "cell_type": "code",
   "execution_count": 1,
   "metadata": {},
   "outputs": [
    {
     "name": "stdout",
     "output_type": "stream",
     "text": [
      "                  Temp (°C)  Dew Point Temp (°C)  Rel Hum (%)  \\\n",
      "Date/Time                                                       \n",
      "2019-08-08 00:00       21.2                 21.2        100.0   \n",
      "2019-08-08 01:00       21.3                 21.2        100.0   \n",
      "2019-08-08 02:00       21.6                 21.6        100.0   \n",
      "2019-08-08 03:00       20.7                 20.7        100.0   \n",
      "2019-08-08 04:00       18.8                 18.8        100.0   \n",
      "2019-08-08 05:00       18.3                 17.8         97.0   \n",
      "2019-08-08 06:00       18.6                 18.0         96.0   \n",
      "2019-08-08 07:00       20.5                 17.1         81.0   \n",
      "2019-08-08 08:00       21.7                 15.2         66.0   \n",
      "2019-08-08 09:00       22.9                 16.7         68.0   \n",
      "2019-08-08 10:00       23.3                 14.1         56.0   \n",
      "2019-08-08 11:00       25.2                 22.5         85.0   \n",
      "2019-08-08 12:00       24.4                 20.0         76.0   \n",
      "2019-08-08 13:00       23.7                 21.8         89.0   \n",
      "2019-08-08 14:00       19.8                 19.8        100.0   \n",
      "2019-08-08 15:00       21.2                 21.2        100.0   \n",
      "2019-08-08 16:00       22.1                 20.9         93.0   \n",
      "2019-08-08 17:00       22.4                 21.4         94.0   \n",
      "2019-08-08 18:00       22.9                 21.4         91.0   \n",
      "2019-08-08 19:00       22.1                 20.8         92.0   \n",
      "2019-08-08 20:00       21.1                 18.6         85.0   \n",
      "2019-08-08 21:00       20.3                 18.5         90.0   \n",
      "2019-08-08 22:00       19.5                 18.9         96.0   \n",
      "2019-08-08 23:00       18.3                 16.4         89.0   \n",
      "\n",
      "                  Wind Dir (10s deg)  Wind Spd (km/h)  Stn Press (kPa)  Month  \\\n",
      "Date/Time                                                                       \n",
      "2019-08-08 00:00                25.0              8.0            99.48      8   \n",
      "2019-08-08 01:00                21.0              9.0            99.43      8   \n",
      "2019-08-08 02:00                25.0             12.0            99.37      8   \n",
      "2019-08-08 03:00                25.0             13.0            99.39      8   \n",
      "2019-08-08 04:00                28.0              8.0            99.38      8   \n",
      "2019-08-08 05:00                25.0              8.0            99.37      8   \n",
      "2019-08-08 06:00                26.0              7.0            99.37      8   \n",
      "2019-08-08 07:00                25.0              8.0            99.36      8   \n",
      "2019-08-08 08:00                24.0             11.0            99.36      8   \n",
      "2019-08-08 09:00                23.0              9.0            99.31      8   \n",
      "2019-08-08 10:00                17.0             13.0            99.26      8   \n",
      "2019-08-08 11:00                18.0             21.0            99.23      8   \n",
      "2019-08-08 12:00                19.0             28.0            99.14      8   \n",
      "2019-08-08 13:00                19.0             28.0            99.14      8   \n",
      "2019-08-08 14:00                25.0             23.0            99.20      8   \n",
      "2019-08-08 15:00                25.0             16.0            99.16      8   \n",
      "2019-08-08 16:00                24.0             23.0            99.13      8   \n",
      "2019-08-08 17:00                23.0             18.0            99.15      8   \n",
      "2019-08-08 18:00                23.0             15.0            99.16      8   \n",
      "2019-08-08 19:00                25.0             11.0            99.18      8   \n",
      "2019-08-08 20:00                26.0             12.0            99.25      8   \n",
      "2019-08-08 21:00                25.0             14.0            99.31      8   \n",
      "2019-08-08 22:00                26.0             15.0            99.31      8   \n",
      "2019-08-08 23:00                29.0             15.0            99.33      8   \n",
      "\n",
      "                  Time  \n",
      "Date/Time               \n",
      "2019-08-08 00:00   0.0  \n",
      "2019-08-08 01:00   1.0  \n",
      "2019-08-08 02:00   2.0  \n",
      "2019-08-08 03:00   3.0  \n",
      "2019-08-08 04:00   4.0  \n",
      "2019-08-08 05:00   5.0  \n",
      "2019-08-08 06:00   6.0  \n",
      "2019-08-08 07:00   7.0  \n",
      "2019-08-08 08:00   8.0  \n",
      "2019-08-08 09:00   9.0  \n",
      "2019-08-08 10:00  10.0  \n",
      "2019-08-08 11:00  11.0  \n",
      "2019-08-08 12:00  12.0  \n",
      "2019-08-08 13:00  13.0  \n",
      "2019-08-08 14:00  14.0  \n",
      "2019-08-08 15:00  15.0  \n",
      "2019-08-08 16:00  16.0  \n",
      "2019-08-08 17:00  17.0  \n",
      "2019-08-08 18:00  18.0  \n",
      "2019-08-08 19:00  19.0  \n",
      "2019-08-08 20:00  20.0  \n",
      "2019-08-08 21:00  21.0  \n",
      "2019-08-08 22:00  22.0  \n",
      "2019-08-08 23:00  23.0  \n",
      "torch.Size([1, 503, 8])\n"
     ]
    }
   ],
   "source": [
    "PROCESSED_DATA = \"./processed-data\"\n",
    "\n",
    "import torch\n",
    "import pandas as pd\n",
    "import numpy as np\n",
    "\n",
    "dataset = pd.read_csv('{}/latestSequence.csv'.format(PROCESSED_DATA), header = 0)\n",
    "dataset.set_index(dataset.columns[0], inplace=True)\n",
    "print(dataset[-24:])\n",
    "input_data = np.array(dataset)\n",
    "mean = np.mean(input_data, axis=0)\n",
    "std = np.std(input_data, axis=0) \n",
    "input_data = (input_data - mean)/std  \n",
    "input_data = torch.Tensor(input_data).unsqueeze(0)\n",
    "print(input_data.shape)"
   ]
  },
  {
   "cell_type": "markdown",
   "metadata": {},
   "source": [
    "### Set Model"
   ]
  },
  {
   "cell_type": "code",
   "execution_count": 2,
   "metadata": {},
   "outputs": [],
   "source": [
    "import torch\n",
    "import torch.nn as nn\n",
    "\n",
    "class SimpleLSTM(nn.Module):\n",
    "    def __init__(self, input_size = 8, output_size = 1, hidden_size=100, num_layers=1):\n",
    "        super().__init__()\n",
    "        self.input_size = input_size\n",
    "        self.output_size = output_size\n",
    "        self.hidden_size = hidden_size\n",
    "        self.num_layers = num_layers\n",
    "        self.lstm = nn.LSTM(self.input_size, self.hidden_size, self.num_layers, batch_first=True) \n",
    "        self.fc = nn.Linear(self.hidden_size, self.output_size) \n",
    "\n",
    "    \n",
    "    def init_hidden(self, batch_size):\n",
    "        hidden = torch.zeros(self.num_layers, batch_size, self.hidden_size)\n",
    "        cell = torch.zeros(self.num_layers, batch_size, self.hidden_size)\n",
    "        return hidden, cell\n",
    "    \n",
    "    def forward(self, x):\n",
    "        # hidden, cell state init\n",
    "        h, c = self.init_hidden(x.size(0))\n",
    "        h, c = h.to(x.device), c.to(x.device)\n",
    "        out, (h, c) = self.lstm(x, (h, c))     \n",
    "        final_output = self.fc(out[:, -1:, :])     \n",
    "        final_output = torch.squeeze(final_output, dim = 1) # shape (100,1)\n",
    "\n",
    "        return final_output"
   ]
  },
  {
   "cell_type": "markdown",
   "metadata": {},
   "source": [
    "### Load Model and Predict  \n",
    "\n",
    "The input data are 24 set of 480 hours data till 00, 01, ...,  23 hour on Aug. 8th   \n",
    "The predictions are temperatures at 00 hour, 01 hour, ..., 23 hour on Aug. 9th"
   ]
  },
  {
   "cell_type": "code",
   "execution_count": 3,
   "metadata": {},
   "outputs": [
    {
     "data": {
      "text/plain": [
       "IncompatibleKeys(missing_keys=[], unexpected_keys=[])"
      ]
     },
     "execution_count": 3,
     "metadata": {},
     "output_type": "execute_result"
    }
   ],
   "source": [
    "model_path = './saved/LSTM/best_model.pt'\n",
    "model = SimpleLSTM()\n",
    "\n",
    "checkpoint = torch.load(model_path)    \n",
    "state_dict = checkpoint['net']   \n",
    "model.load_state_dict(state_dict) \n"
   ]
  },
  {
   "cell_type": "code",
   "execution_count": 4,
   "metadata": {},
   "outputs": [
    {
     "name": "stdout",
     "output_type": "stream",
     "text": [
      "00 - 21.67\n",
      "01 - 21.59\n",
      "02 - 21.58\n",
      "03 - 21.59\n",
      "04 - 21.55\n",
      "05 - 21.45\n",
      "06 - 21.35\n",
      "07 - 21.35\n",
      "08 - 21.36\n",
      "09 - 21.45\n",
      "10 - 21.51\n",
      "11 - 21.61\n",
      "12 - 21.68\n",
      "13 - 21.71\n",
      "14 - 21.53\n",
      "15 - 21.45\n",
      "16 - 21.36\n",
      "17 - 21.36\n",
      "18 - 21.41\n",
      "19 - 21.44\n",
      "20 - 21.36\n",
      "21 - 21.19\n",
      "22 - 20.94\n",
      "23 - 20.62\n"
     ]
    }
   ],
   "source": [
    "preds = []\n",
    "\n",
    "for count in range(0,24):\n",
    "    pred = model(input_data[:, count:480+count, :])\n",
    "    pred = pred.item() * std[0] + mean[0] # de-normalization\n",
    "    preds.append(pred)\n",
    "\n",
    "count = 0\n",
    "for pred in preds:\n",
    "    print(\"{:02d} - {:2.2f}\".format(count, pred))\n",
    "    count = count+1\n",
    "\n",
    "# The actual temp was 17.0\n",
    "# http://climate.weather.gc.ca/climate_data/hourly_data_e.html?hlyRange=2008-07-15%7C2019-08-07&dlyRange=2008-07-15%7C2019-08-07&mlyRange=%7C&StationID=47267&Prov=ON&urlExtension=_e.html&searchType=stnProv&optLimit=specDate&StartYear=1840&EndYear=2019&selRowPerPage=25&Line=74&Month=8&Day=1&lstProvince=ON&timeframe=1&Year=2019\n"
   ]
  },
  {
   "cell_type": "markdown",
   "metadata": {},
   "source": [
    "### Summary\n",
    "\n",
    "1) LSTM Model was trained on Kingston Climate Station's data between 2015.1.1. ~ 2019.8.7  \n",
    "   Weakness - The prediction is dependent on only one station in Kingston  \n",
    "   \n",
    "2) Model gets 480 hours data as input and predicts the temperature 24 hours later  \n",
    "\n",
    "3) Prediction for Aug 9th doesn't properly describe temp decreases at night and early morning even though hour is added as feature"
   ]
  }
 ],
 "metadata": {
  "kernelspec": {
   "display_name": "Python 3",
   "language": "python",
   "name": "python3"
  },
  "language_info": {
   "codemirror_mode": {
    "name": "ipython",
    "version": 3
   },
   "file_extension": ".py",
   "mimetype": "text/x-python",
   "name": "python",
   "nbconvert_exporter": "python",
   "pygments_lexer": "ipython3",
   "version": "3.7.3"
  }
 },
 "nbformat": 4,
 "nbformat_minor": 2
}
