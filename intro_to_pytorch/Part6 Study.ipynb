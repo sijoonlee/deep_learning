{
 "cells": [
  {
   "cell_type": "markdown",
   "metadata": {},
   "source": [
    "# Part 6\n",
    "## What is \"for in\" statement?  \n",
    "\n",
    "In Part 6 notebook, there is a \"for in\" statement like below:  \n",
    "> **'hidden_layers': [each.out_features for each in model.hidden_layers]**,\n",
    "\n",
    "How does it work?\n",
    "\n",
    "Resource:\n",
    "> https://stackoverflow.com/questions/6475314/python-for-in-loop-preceded-by-a-variable"
   ]
  },
  {
   "cell_type": "markdown",
   "metadata": {},
   "source": [
    "### Below are my try-out to know more what the result looks like"
   ]
  },
  {
   "cell_type": "code",
   "execution_count": null,
   "metadata": {},
   "outputs": [],
   "source": [
    "print(model.hidden_layers)\n",
    "print([each.out_features for each in model.hidden_layers])"
   ]
  },
  {
   "cell_type": "code",
   "execution_count": null,
   "metadata": {},
   "outputs": [],
   "source": [
    "ModuleList(\n",
    "  (0): Linear(in_features=784, out_features=400, bias=True)\n",
    "  (1): Linear(in_features=400, out_features=200, bias=True)\n",
    "  (2): Linear(in_features=200, out_features=100, bias=True)\n",
    ")\n",
    "\n",
    "[400, 200, 100]\n",
    "\n",
    "# It turns out that [each.out_features for each in model.hidden_layers]   \n",
    "# returns an array that contains each out_features' value in model.hidden_layers"
   ]
  },
  {
   "cell_type": "markdown",
   "metadata": {},
   "source": [
    "### Other Example\n",
    "\n",
    "Here's simple example to see how it works\n",
    "\n",
    "We can even use if statement"
   ]
  },
  {
   "cell_type": "code",
   "execution_count": 7,
   "metadata": {},
   "outputs": [
    {
     "name": "stdout",
     "output_type": "stream",
     "text": [
      "[3, 3, 8]\n",
      "['Elephant']\n"
     ]
    }
   ],
   "source": [
    "animals = [\"Cat\", \"Dog\", \"Elephant\"]\n",
    "\n",
    "print([len(each) for each in animals]) # will return an array of each word's length\n",
    "\n",
    "print([each for each in animals if len(each) > 4]) # we can add \"If statement\""
   ]
  }
 ],
 "metadata": {
  "kernelspec": {
   "display_name": "Python 3",
   "language": "python",
   "name": "python3"
  },
  "language_info": {
   "codemirror_mode": {
    "name": "ipython",
    "version": 3
   },
   "file_extension": ".py",
   "mimetype": "text/x-python",
   "name": "python",
   "nbconvert_exporter": "python",
   "pygments_lexer": "ipython3",
   "version": "3.7.3"
  }
 },
 "nbformat": 4,
 "nbformat_minor": 2
}
