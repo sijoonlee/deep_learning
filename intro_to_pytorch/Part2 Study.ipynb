{
 "cells": [
  {
   "cell_type": "markdown",
   "metadata": {},
   "source": [
    "# Part 2 Practices\n",
    "\n",
    "## How to use torch.sum()\n",
    "\n",
    "To sum all elements of a tensor:\n",
    ">torch.sum(outputs) # gives back a scalar\n",
    "\n",
    "To sum over all rows (i.e. for each column):\n",
    ">torch.sum(outputs, dim=0) # size = [ncol]\n",
    "\n",
    "To sum over all columns (i.e. for each row):\n",
    ">torch.sum(outputs, dim=1) # size = [nrow]\n",
    "\n",
    "Resource Link\n",
    ">https://stackoverflow.com/questions/44790670/torch-sum-a-tensor-along-an-axis\n",
    "\n"
   ]
  },
  {
   "cell_type": "code",
   "execution_count": 1,
   "metadata": {},
   "outputs": [
    {
     "name": "stdout",
     "output_type": "stream",
     "text": [
      "torch.Size([2, 3])\n",
      "tensor([3, 6, 9])\n",
      "tensor([ 6, 12])\n",
      "tensor([1, 2, 3])\n",
      "torch.Size([3])\n",
      "tensor([[1, 1, 1],\n",
      "        [2, 2, 2]])\n",
      "tensor([[14],\n",
      "        [28]])\n"
     ]
    }
   ],
   "source": [
    "import torch\n",
    "## just simple practice\n",
    "test_tensor = torch.tensor([[1,2,3],[2,4,6]])\n",
    "print(test_tensor.shape)\n",
    "print(torch.sum(test_tensor, dim=0)) # summation of values in the same column\n",
    "print(torch.sum(test_tensor, dim=1)) # summation of values in the same row\n",
    "\n",
    "\n",
    "test_denominator = torch.tensor([1,2,3])\n",
    "print(test_denominator)\n",
    "print(test_denominator.shape)\n",
    "\n",
    "# it's different form matrix multiplication\n",
    "print(test_tensor / test_denominator.view(1,3)) # (2,3) / (1,3) works\n",
    "# print(test_tensor / test_denominator.view(3,1)) # (2,3) / (3,1) doesn't work\n",
    "\n",
    "# print(test_tensor.mm(test_denominator.view(1,3))) # (2,3) / (1,3) doesn't work\n",
    "print(test_tensor.mm(test_denominator.view(3,1))) # (2,3) / (3,1) works\n"
   ]
  },
  {
   "cell_type": "markdown",
   "metadata": {},
   "source": [
    "## What is [:] ? \n",
    "It means everywhere(e.g. every items in a column, in a row, etc)  \n",
    "For example, myTensor[:, :] means items in every rows and columns of myTensor  \n",
    "See more examples below to know other usages\n",
    "\n",
    "Resource Link\n",
    ">https://www.cs.virginia.edu/~vicente/recognition/notebooks/python_pytorch_plotting.html"
   ]
  },
  {
   "cell_type": "code",
   "execution_count": 14,
   "metadata": {},
   "outputs": [
    {
     "name": "stdout",
     "output_type": "stream",
     "text": [
      "1. [:, :]\n",
      "tensor([[1, 2, 3],\n",
      "        [2, 4, 6],\n",
      "        [3, 6, 9]])\n",
      "\n",
      "2. [0,0]\n",
      "tensor(1)\n",
      "\n",
      "3. [:2, :]\n",
      "tensor([[1, 2, 3],\n",
      "        [2, 4, 6]])\n",
      "\n",
      "4. [-2:, :]\n",
      "tensor([[2, 4, 6],\n",
      "        [3, 6, 9]])\n",
      "\n",
      "5. [:, :2]\n",
      "tensor([[1, 2],\n",
      "        [2, 4],\n",
      "        [3, 6]])\n",
      "\n",
      "6. [:, -2:]\n",
      "tensor([[2, 3],\n",
      "        [4, 6],\n",
      "        [6, 9]])\n",
      "\n",
      "7. [:2, :2]\n",
      "tensor([[1, 2],\n",
      "        [2, 4]])\n"
     ]
    }
   ],
   "source": [
    "myTensor = torch.tensor([[1,2,3],[2,4,6],[3,6,9]])\n",
    "print(\"1. [:, :]\")\n",
    "print(myTensor[:, :]) # 1. all elements\n",
    "print(\"\")\n",
    "print(\"2. [0,0]\")\n",
    "print(myTensor[0, 0]) # 2. first element\n",
    "print(\"\")\n",
    "print(\"3. [:2, :]\")\n",
    "print(myTensor[:2, :]) # 3. first two rows\n",
    "print(\"\")\n",
    "print(\"4. [-2:, :]\")\n",
    "print(myTensor[-2:, :]) # 4. bottom two rows\n",
    "print(\"\")\n",
    "print(\"5. [:, :2]\")\n",
    "print(myTensor[:, :2]) # 5. left two columns\n",
    "print(\"\")\n",
    "print(\"6. [:, -2:]\")\n",
    "print(myTensor[:, -2:]) # 6. right two columns\n",
    "print(\"\")\n",
    "print(\"7. [:2, :2]\")\n",
    "print(myTensor[:2, :2]) # 7. first two rows & right two columns (2X2)"
   ]
  },
  {
   "cell_type": "markdown",
   "metadata": {},
   "source": [
    "## What is '-1' in tensor.view(9, -1) ?\n",
    "It means that the size -1 is inferred from other dimensions\n",
    "\n",
    "For example, when a tensor has 3X3 matrix,  \n",
    "tensor.view[9, -1] will generate [9,1] matrix\n",
    "\n",
    "Resource Link\n",
    ">https://pytorch.org/docs/stable/tensors.html?highlight=view#torch.Tensor.view\n"
   ]
  },
  {
   "cell_type": "code",
   "execution_count": 3,
   "metadata": {},
   "outputs": [
    {
     "name": "stdout",
     "output_type": "stream",
     "text": [
      "tensor([[1],\n",
      "        [2],\n",
      "        [3],\n",
      "        [2],\n",
      "        [4],\n",
      "        [6],\n",
      "        [3],\n",
      "        [6],\n",
      "        [9]])\n",
      "torch.Size([9, 1])\n"
     ]
    }
   ],
   "source": [
    "myTensor = torch.tensor([[1,2,3],[2,4,6],[3,6,9]])\n",
    "print(myTensor.view(9,-1))\n",
    "print(myTensor.view(9,-1).shape)"
   ]
  }
 ],
 "metadata": {
  "kernelspec": {
   "display_name": "Python 3",
   "language": "python",
   "name": "python3"
  },
  "language_info": {
   "codemirror_mode": {
    "name": "ipython",
    "version": 3
   },
   "file_extension": ".py",
   "mimetype": "text/x-python",
   "name": "python",
   "nbconvert_exporter": "python",
   "pygments_lexer": "ipython3",
   "version": "3.7.3"
  }
 },
 "nbformat": 4,
 "nbformat_minor": 2
}
