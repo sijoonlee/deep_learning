{
 "cells": [
  {
   "cell_type": "markdown",
   "metadata": {},
   "source": [
    "# Part 3\n",
    "\n",
    "## External Learning Sources to understand log softmax and NLL\n",
    "**Understanding softmax and the negative log-likelihood by LJ MIRANDA**\n",
    ">https://ljvmiranda921.github.io/notebook/2017/08/13/softmax-and-the-negative-log-likelihood/\n",
    "\n",
    "**How is Pytorch’s Cross Entropy function related to softmax, log softmax, and NLL by Yang Zhang**\n",
    ">https://medium.com/@zhang_yang/understanding-cross-entropy-implementation-in-pytorch-softmax-log-softmax-nll-cross-entropy-416a2b200e34\n",
    "\n",
    "**CS231n, Stanford**\n",
    ">http://cs231n.github.io/linear-classify/#softmax  \n",
    "http://cs231n.github.io/neural-networks-case-study/#grad  "
   ]
  }
 ],
 "metadata": {
  "kernelspec": {
   "display_name": "Python 3",
   "language": "python",
   "name": "python3"
  },
  "language_info": {
   "codemirror_mode": {
    "name": "ipython",
    "version": 3
   },
   "file_extension": ".py",
   "mimetype": "text/x-python",
   "name": "python",
   "nbconvert_exporter": "python",
   "pygments_lexer": "ipython3",
   "version": "3.7.3"
  }
 },
 "nbformat": 4,
 "nbformat_minor": 2
}
