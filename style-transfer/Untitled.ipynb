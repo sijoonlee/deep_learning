{
 "cells": [
  {
   "cell_type": "code",
   "execution_count": 2,
   "metadata": {},
   "outputs": [],
   "source": [
    "import torch"
   ]
  },
  {
   "cell_type": "code",
   "execution_count": 33,
   "metadata": {},
   "outputs": [
    {
     "name": "stdout",
     "output_type": "stream",
     "text": [
      "torch.Size([2, 1, 2, 3])\n",
      "tensor([[[1, 2, 3, 2, 3, 4]],\n",
      "\n",
      "        [[2, 3, 4, 4, 5, 6]]])\n",
      "tensor([[[1],\n",
      "         [2],\n",
      "         [3],\n",
      "         [2],\n",
      "         [3],\n",
      "         [4]],\n",
      "\n",
      "        [[2],\n",
      "         [3],\n",
      "         [4],\n",
      "         [4],\n",
      "         [5],\n",
      "         [6]]])\n",
      "tensor([[[1],\n",
      "         [2],\n",
      "         [3],\n",
      "         [2],\n",
      "         [3],\n",
      "         [4]],\n",
      "\n",
      "        [[2],\n",
      "         [3],\n",
      "         [4],\n",
      "         [4],\n",
      "         [5],\n",
      "         [6]]])\n",
      "torch.Size([2, 1, 1])\n",
      "tensor([[[ 43]],\n",
      "\n",
      "        [[106]]])\n",
      "tensor([[[ 43]],\n",
      "\n",
      "        [[106]]])\n"
     ]
    }
   ],
   "source": [
    "a = torch.tensor([\n",
    "    [[[1,2,3],[2,3,4]]],\n",
    "    [[[2,3,4],[4,5,6]]]\n",
    "\n",
    "])\n",
    "\n",
    "print(a.shape) # 2,1,2,3\n",
    "\n",
    "N, C, W, H = a.size()\n",
    "\n",
    "b = a.view(N,C,W*H)\n",
    "print(b)\n",
    "c = torch.transpose(b, 1, 2)\n",
    "print(c)\n",
    "f = b.permute(0,2,1)\n",
    "print(f)\n",
    "d = torch.bmm(b,c)\n",
    "print(d.shape)\n",
    "print(d)\n",
    "print(torch.bmm(b,f))"
   ]
  },
  {
   "cell_type": "code",
   "execution_count": 45,
   "metadata": {},
   "outputs": [
    {
     "data": {
      "text/plain": [
       "torch.Size([1, 3, 3, 3])"
      ]
     },
     "execution_count": 45,
     "metadata": {},
     "output_type": "execute_result"
    }
   ],
   "source": [
    "a = torch.tensor([\n",
    "    [[[0,1,2],[10,11,12],[20,21,22]],\n",
    "    [[0,1,2],[10,11,12],[20,21,22]],\n",
    "    [[0,1,2],[10,11,12],[20,21,22]]]\n",
    "])\n",
    "a.shape"
   ]
  },
  {
   "cell_type": "code",
   "execution_count": 78,
   "metadata": {},
   "outputs": [
    {
     "name": "stdout",
     "output_type": "stream",
     "text": [
      "tensor([[[[ 0,  1],\n",
      "          [10, 11],\n",
      "          [20, 21]],\n",
      "\n",
      "         [[ 0,  1],\n",
      "          [10, 11],\n",
      "          [20, 21]],\n",
      "\n",
      "         [[ 0,  1],\n",
      "          [10, 11],\n",
      "          [20, 21]]]])\n"
     ]
    }
   ],
   "source": [
    "left = a[:,:,:,:-1]\n",
    "print(left)"
   ]
  },
  {
   "cell_type": "code",
   "execution_count": 79,
   "metadata": {},
   "outputs": [
    {
     "name": "stdout",
     "output_type": "stream",
     "text": [
      "tensor([[[[ 1,  2],\n",
      "          [11, 12],\n",
      "          [21, 22]],\n",
      "\n",
      "         [[ 1,  2],\n",
      "          [11, 12],\n",
      "          [21, 22]],\n",
      "\n",
      "         [[ 1,  2],\n",
      "          [11, 12],\n",
      "          [21, 22]]]])\n"
     ]
    }
   ],
   "source": [
    "right = a[:,:,:,1:]\n",
    "print(right)"
   ]
  },
  {
   "cell_type": "code",
   "execution_count": 84,
   "metadata": {},
   "outputs": [
    {
     "name": "stdout",
     "output_type": "stream",
     "text": [
      "tensor([[[[1, 1],\n",
      "          [1, 1],\n",
      "          [1, 1]],\n",
      "\n",
      "         [[1, 1],\n",
      "          [1, 1],\n",
      "          [1, 1]],\n",
      "\n",
      "         [[1, 1],\n",
      "          [1, 1],\n",
      "          [1, 1]]]])\n"
     ]
    },
    {
     "data": {
      "text/plain": [
       "tensor(18)"
      ]
     },
     "execution_count": 84,
     "metadata": {},
     "output_type": "execute_result"
    }
   ],
   "source": [
    "print(right-left)\n",
    "torch.sum( (right - left)**2 )"
   ]
  },
  {
   "cell_type": "code",
   "execution_count": 80,
   "metadata": {},
   "outputs": [
    {
     "name": "stdout",
     "output_type": "stream",
     "text": [
      "tensor([[[[ 0,  1,  2],\n",
      "          [10, 11, 12]],\n",
      "\n",
      "         [[ 0,  1,  2],\n",
      "          [10, 11, 12]],\n",
      "\n",
      "         [[ 0,  1,  2],\n",
      "          [10, 11, 12]]]])\n"
     ]
    }
   ],
   "source": [
    "top = a[:,:,:-1,:]\n",
    "print(top)"
   ]
  },
  {
   "cell_type": "code",
   "execution_count": 81,
   "metadata": {},
   "outputs": [
    {
     "name": "stdout",
     "output_type": "stream",
     "text": [
      "tensor([[[[10, 11, 12],\n",
      "          [20, 21, 22]],\n",
      "\n",
      "         [[10, 11, 12],\n",
      "          [20, 21, 22]],\n",
      "\n",
      "         [[10, 11, 12],\n",
      "          [20, 21, 22]]]])\n"
     ]
    }
   ],
   "source": [
    "bottom = a[:,:,1:,:]\n",
    "print(bottom)"
   ]
  },
  {
   "cell_type": "code",
   "execution_count": 85,
   "metadata": {},
   "outputs": [
    {
     "name": "stdout",
     "output_type": "stream",
     "text": [
      "tensor([[[[10, 10, 10],\n",
      "          [10, 10, 10]],\n",
      "\n",
      "         [[10, 10, 10],\n",
      "          [10, 10, 10]],\n",
      "\n",
      "         [[10, 10, 10],\n",
      "          [10, 10, 10]]]])\n"
     ]
    },
    {
     "data": {
      "text/plain": [
       "tensor(1800)"
      ]
     },
     "execution_count": 85,
     "metadata": {},
     "output_type": "execute_result"
    }
   ],
   "source": [
    "print(bottom-top)\n",
    "torch.sum( (bottom - top)**2 )"
   ]
  }
 ],
 "metadata": {
  "kernelspec": {
   "display_name": "Python 3",
   "language": "python",
   "name": "python3"
  },
  "language_info": {
   "codemirror_mode": {
    "name": "ipython",
    "version": 3
   },
   "file_extension": ".py",
   "mimetype": "text/x-python",
   "name": "python",
   "nbconvert_exporter": "python",
   "pygments_lexer": "ipython3",
   "version": "3.7.3"
  }
 },
 "nbformat": 4,
 "nbformat_minor": 2
}
