{
 "cells": [
  {
   "cell_type": "markdown",
   "metadata": {},
   "source": [
    "## Project Submission\n",
    "\n",
    "When you are ready to submit your project, meaning you have checked the [rubric](https://review.udacity.com/#!/rubrics/1428/view) and made sure that you have completed all tasks and answered all questions. Then you are ready to compress your files and submit your solution!\n",
    "\n",
    "The following steps assume:\n",
    "1. All cells have been *run* in Notebook 3 (and that progress has been saved).\n",
    "2. All questions in Notebook 3 have been answered.\n",
    "3. Your robot `sense` function in `robot_class.py` is complete.\n",
    "\n",
    "Please make sure all your work is saved before moving on. You do not need to change any code in the following cells; this code is to help you submit your project, only.\n",
    "\n",
    "---\n",
    "\n",
    "The first thing we'll do, is convert your notebooks into `.html` files; these files will save the output of each cell and any code/text that you have modified and saved in those notebooks. Note that the second notebook is not included because its completion does not affect whether you pass this project."
   ]
  },
  {
   "cell_type": "code",
   "execution_count": null,
   "metadata": {},
   "outputs": [],
   "source": [
    "!jupyter nbconvert \"1. Robot Moving and Sensing.ipynb\"\n",
    "!jupyter nbconvert \"3. Landmark Detection and Tracking.ipynb\""
   ]
  },
  {
   "cell_type": "markdown",
   "metadata": {},
   "source": [
    "### Zip the project files\n",
    "\n",
    "Next, we'll zip these notebook files and your `robot_class.py` file into one compressed archive named `project3.zip`.\n",
    "\n",
    "After completing this step you should see this zip file appear in your home directory, where you can download it as seen in the image below, by selecting it from the list and clicking **Download**.\n",
    "\n",
    "<img src='images/download_ex.png' width=50% height=50%/>\n"
   ]
  },
  {
   "cell_type": "code",
   "execution_count": null,
   "metadata": {},
   "outputs": [],
   "source": [
    "!!apt-get -y update && apt-get install -y zip\n",
    "!zip project3.zip -r . -i@filelist.txt"
   ]
  },
  {
   "cell_type": "markdown",
   "metadata": {},
   "source": [
    "### Submit Your Project\n",
    "\n",
    "After creating and downloading your zip file, click on the `Submit` button and follow the instructions for submitting your `project3.zip` file. Congratulations on completing this project and I hope you enjoyed it!"
   ]
  }
 ],
 "metadata": {
  "kernelspec": {
   "display_name": "Python 3",
   "language": "python",
   "name": "python3"
  },
  "language_info": {
   "codemirror_mode": {
    "name": "ipython",
    "version": 3
   },
   "file_extension": ".py",
   "mimetype": "text/x-python",
   "name": "python",
   "nbconvert_exporter": "python",
   "pygments_lexer": "ipython3",
   "version": "3.6.3"
  }
 },
 "nbformat": 4,
 "nbformat_minor": 2
}
