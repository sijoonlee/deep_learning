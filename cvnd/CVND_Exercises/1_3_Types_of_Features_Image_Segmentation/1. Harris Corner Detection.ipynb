{
 "cells": [
  {
   "cell_type": "markdown",
   "metadata": {},
   "source": [
    "# Harris Corner Detection"
   ]
  },
  {
   "cell_type": "markdown",
   "metadata": {},
   "source": [
    "### Import resources and display image"
   ]
  },
  {
   "cell_type": "code",
   "execution_count": null,
   "metadata": {},
   "outputs": [],
   "source": [
    "import matplotlib.pyplot as plt\n",
    "import numpy as np\n",
    "import cv2\n",
    "\n",
    "%matplotlib inline\n",
    "\n",
    "# Read in the image\n",
    "image = cv2.imread('images/waffle.jpg')\n",
    "\n",
    "# Make a copy of the image\n",
    "image_copy = np.copy(image)\n",
    "\n",
    "# Change color to RGB (from BGR)\n",
    "image_copy = cv2.cvtColor(image_copy, cv2.COLOR_BGR2RGB)\n",
    "\n",
    "plt.imshow(image_copy)"
   ]
  },
  {
   "cell_type": "markdown",
   "metadata": {},
   "source": [
    "### Detect corners"
   ]
  },
  {
   "cell_type": "code",
   "execution_count": null,
   "metadata": {},
   "outputs": [],
   "source": [
    "# Convert to grayscale\n",
    "gray = cv2.cvtColor(image_copy, cv2.COLOR_RGB2GRAY)\n",
    "gray = np.float32(gray)\n",
    "\n",
    "# Detect corners \n",
    "dst = cv2.cornerHarris(gray, 2, 3, 0.04)\n",
    "\n",
    "# Dilate corner image to enhance corner points\n",
    "dst = cv2.dilate(dst,None)\n",
    "\n",
    "plt.imshow(dst, cmap='gray')\n"
   ]
  },
  {
   "cell_type": "markdown",
   "metadata": {},
   "source": [
    "### Extract and display strong corners"
   ]
  },
  {
   "cell_type": "code",
   "execution_count": null,
   "metadata": {},
   "outputs": [],
   "source": [
    "## TODO: Define a threshold for extracting strong corners\n",
    "# This value vary depending on the image and how many corners you want to detect\n",
    "# Try changing this free parameter, 0.1, to be larger or smaller ans see what happens\n",
    "thresh = 0.1*dst.max()\n",
    "\n",
    "# Create an image copy to draw corners on\n",
    "corner_image = np.copy(image_copy)\n",
    "\n",
    "# Iterate through all the corners and draw them on the image (if they pass the threshold)\n",
    "for j in range(0, dst.shape[0]):\n",
    "    for i in range(0, dst.shape[1]):\n",
    "        if(dst[j,i] > thresh):\n",
    "            # image, center pt, radius, color, thickness\n",
    "            cv2.circle( corner_image, (i, j), 1, (0,255,0), 1)\n",
    "\n",
    "plt.imshow(corner_image)"
   ]
  }
 ],
 "metadata": {
  "anaconda-cloud": {},
  "kernelspec": {
   "display_name": "Python 3",
   "language": "python",
   "name": "python3"
  },
  "language_info": {
   "codemirror_mode": {
    "name": "ipython",
    "version": 3
   },
   "file_extension": ".py",
   "mimetype": "text/x-python",
   "name": "python",
   "nbconvert_exporter": "python",
   "pygments_lexer": "ipython3",
   "version": "3.6.3"
  }
 },
 "nbformat": 4,
 "nbformat_minor": 1
}
