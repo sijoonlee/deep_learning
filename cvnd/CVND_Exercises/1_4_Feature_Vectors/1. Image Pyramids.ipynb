{
 "cells": [
  {
   "cell_type": "markdown",
   "metadata": {},
   "source": [
    "## Image pyramids\n",
    "\n",
    "Take a look at how downsampling with image pyramids works.\n",
    "\n",
    "First, we'll read in an image then construct and display a few layers of an image pyramid."
   ]
  },
  {
   "cell_type": "code",
   "execution_count": null,
   "metadata": {},
   "outputs": [],
   "source": [
    "import numpy as np\n",
    "import matplotlib.pyplot as plt\n",
    "import cv2\n",
    "\n",
    "%matplotlib inline\n",
    "\n",
    "# Read in the image\n",
    "image = cv2.imread('images/rainbow_flag.jpg')\n",
    "\n",
    "# Change color to RGB (from BGR)\n",
    "image = cv2.cvtColor(image, cv2.COLOR_BGR2RGB)\n",
    "\n",
    "plt.imshow(image)"
   ]
  },
  {
   "cell_type": "code",
   "execution_count": null,
   "metadata": {},
   "outputs": [],
   "source": [
    "level_1 = cv2.pyrDown(image)\n",
    "level_2 = cv2.pyrDown(level_1)\n",
    "level_3 = cv2.pyrDown(level_2)\n",
    "\n",
    "# Display the images\n",
    "f, (ax1,ax2,ax3,ax4) = plt.subplots(1, 4, figsize=(20,10))\n",
    "\n",
    "ax1.set_title('original')\n",
    "ax1.imshow(image)\n",
    "\n",
    "ax2.imshow(level_1)\n",
    "ax2.set_xlim([0, image.shape[1]])\n",
    "ax2.set_ylim([0, image.shape[0]])\n",
    "\n",
    "ax3.imshow(level_2)\n",
    "ax3.set_xlim([0, image.shape[1]])\n",
    "ax3.set_ylim([0, image.shape[0]])\n",
    "\n",
    "ax4.imshow(level_3)\n",
    "ax4.set_xlim([0, image.shape[1]])\n",
    "ax4.set_ylim([0, image.shape[0]])\n"
   ]
  }
 ],
 "metadata": {
  "kernelspec": {
   "display_name": "Python 3",
   "language": "python",
   "name": "python3"
  },
  "language_info": {
   "codemirror_mode": {
    "name": "ipython",
    "version": 3
   },
   "file_extension": ".py",
   "mimetype": "text/x-python",
   "name": "python",
   "nbconvert_exporter": "python",
   "pygments_lexer": "ipython3",
   "version": "3.6.3"
  }
 },
 "nbformat": 4,
 "nbformat_minor": 2
}
